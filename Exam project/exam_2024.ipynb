{
 "cells": [
  {
   "cell_type": "markdown",
   "metadata": {},
   "source": [
    "**Table of contents**<a id='toc0_'></a>    \n",
    "- 1. [Problem 1: Production economy and CO2 taxation](#toc1_)    \n",
    "- 2. [Problem 2: Career choice model](#toc2_)    \n",
    "- 3. [Problem 3: Barycentric interpolation](#toc3_)    \n",
    "\n",
    "<!-- vscode-jupyter-toc-config\n",
    "\tnumbering=true\n",
    "\tanchor=true\n",
    "\tflat=false\n",
    "\tminLevel=2\n",
    "\tmaxLevel=6\n",
    "\t/vscode-jupyter-toc-config -->\n",
    "<!-- THIS CELL WILL BE REPLACED ON TOC UPDATE. DO NOT WRITE YOUR TEXT IN THIS CELL -->"
   ]
  },
  {
   "cell_type": "code",
   "execution_count": 66,
   "metadata": {},
   "outputs": [],
   "source": [
    "# Write your code here\n",
    "import numpy as np\n",
    "import pandas as pd #til opgave 2\n",
    "from types import SimpleNamespace"
   ]
  },
  {
   "cell_type": "markdown",
   "metadata": {},
   "source": [
    "## 1. <a id='toc1_'></a>[Problem 1: Production economy and CO2 taxation](#toc0_)"
   ]
  },
  {
   "cell_type": "markdown",
   "metadata": {},
   "source": [
    "Consider a production economy with two firms indexed by $j \\in \\{1,2\\}$. Each produce its own good. They solve\n",
    "\n",
    "$$\n",
    "\\begin{align*}\n",
    "\\max_{y_{j}}\\pi_{j}&=p_{j}y_{j}-w_{j}\\ell_{j}\\\\\\text{s.t.}\\;&y_{j}=A\\ell_{j}^{\\gamma}.\n",
    "\\end{align*}\n",
    "$$\n",
    "\n",
    "Optimal firm behavior is\n",
    "\n",
    "$$\n",
    "\\begin{align*}\n",
    "\\ell_{j}^{\\star}(w,p_{j})&=\\left(\\frac{p_{j}A\\gamma}{w}\\right)^{\\frac{1}{1-\\gamma}} \\\\\n",
    "y_{j}^{\\star}(w,p_{j})&=A\\left(\\ell_{j}^{\\star}(w,p_{j})\\right)^{\\gamma}\n",
    "\\end{align*}\n",
    "$$\n",
    "\n",
    "The implied profits are\n",
    "\n",
    "$$\n",
    "\\pi_{j}^*(w,p_{j})=\\frac{1-\\gamma}{\\gamma}w\\cdot\\left(\\frac{p_{j}A\\gamma}{w}\\right)^{\\frac{1}{1-\\gamma}}\n",
    "$$\n",
    "\n",
    "A single consumer supplies labor, and consumes the goods the firms produce. She also recieves the implied profits of the firm.<br>\n",
    "She solves:\n",
    "\n",
    "$$\n",
    "\\begin{align*}\n",
    "U(p_1,p_2,w,\\tau,T) = \\max_{c_{1},c_{2},\\ell} & \\log(c_{1}^{\\alpha}c_{2}^{1-\\alpha})-\\nu\\frac{\\ell^{1+\\epsilon}}{1+\\epsilon} \\\\\n",
    "\\text{s.t.}\\,\\,\\,&p_{1}c_{1}+(p_{2}+\\tau)c_{2}=w\\ell+T+\\pi_{1}^*(w,p_{1})+\\pi_{2}^*(w,p_{2})\n",
    "\\end{align*}\n",
    "$$\n",
    "\n",
    "where $\\tau$ is a tax and $T$ is lump-sum transfer. <br>\n",
    "For a given $\\ell$, it can be shown that optimal behavior is\n",
    "\n",
    "$$\n",
    "\\begin{align*}\n",
    "c_{1}(\\ell)&=\\alpha\\frac{w\\ell+T+\\pi_{1}^*(w,p_{1})+\\pi_{2}^*(w,p_{2})}{p_{1}} \\\\\n",
    "c_{2}(\\ell)&=(1-\\alpha)\\frac{w\\ell+T+\\pi_{1}^*(w,p_{1})+\\pi_{2}^*(w,p_{2})}{p_{2}+\\tau} \\\\\n",
    "\\end{align*}\n",
    "$$\n",
    "Such that optimal behavior is:\n",
    "$$\n",
    "\\ell^* = \\underset{\\ell}{\\arg\\max} \\log(\\left(c_{1}(\\ell)\\right)^{\\alpha}\\cdot \\left(c_{2}(\\ell)\\right)^{1-\\alpha})-\\nu\\frac{\\ell^{1+\\epsilon}}{1+\\epsilon} \n",
    "$$\n",
    "With optimal consumption:\n",
    "$$\n",
    "\\begin{align*}\n",
    "c_1^*=c_{1}(\\ell^*) \\\\\n",
    "c_2^*=c_{2}(\\ell^*)\\\\\n",
    "\\end{align*}\n",
    "$$\n",
    "\n",
    "\n",
    "The government chooses $\\tau$ and balances its budget so $T=\\tau c_2^*$. We initially set $\\tau,T=0$.\n",
    "\n",
    "Market clearing requires:\n",
    "\n",
    "1. Labor market: $\\ell^* = \\ell_1^* + \\ell_2^*$\n",
    "1. Good market 1: $c_1^* = y_1^*$\n",
    "1. Good market 2: $c_2^* = y_2^*$\n"
   ]
  },
  {
   "cell_type": "markdown",
   "metadata": {},
   "source": [
    "**Question 1:** Check market clearing conditions for $p_1$ in `linspace(0.1,2.0,10)` and $p_2$ in `linspace(0.1,2.0,10)`. We choose $w=1$ as numeraire."
   ]
  },
  {
   "cell_type": "code",
   "execution_count": 2,
   "metadata": {},
   "outputs": [],
   "source": [
    "par = SimpleNamespace()\n",
    "\n",
    "# firms\n",
    "par.A = 1.0\n",
    "par.gamma = 0.5\n",
    "\n",
    "# households\n",
    "par.alpha = 0.3\n",
    "par.nu = 1.0\n",
    "par.epsilon = 2.0\n",
    "\n",
    "# government\n",
    "par.tau = 0.0\n",
    "par.T = 0.0\n",
    "\n",
    "# Question 3\n",
    "par.kappa = 0.1"
   ]
  },
  {
   "cell_type": "code",
   "execution_count": 3,
   "metadata": {},
   "outputs": [],
   "source": [
    "# write you answer here"
   ]
  },
  {
   "cell_type": "markdown",
   "metadata": {},
   "source": [
    "**Question 2:** Find the equilibrium prices $p_1$ and $p_2$.<br>\n",
    "*Hint: you can use Walras' law to only check 2 of the market clearings*"
   ]
  },
  {
   "cell_type": "code",
   "execution_count": null,
   "metadata": {},
   "outputs": [],
   "source": [
    "# write your answer here"
   ]
  },
  {
   "cell_type": "markdown",
   "metadata": {},
   "source": [
    "Assume the government care about the social welfare function:\n",
    "\n",
    "$$\n",
    "SWF = U - \\kappa y_2^*\n",
    "$$"
   ]
  },
  {
   "cell_type": "markdown",
   "metadata": {},
   "source": [
    "Here $\\kappa$ measures the social cost of carbon emitted by the production of $y_2$ in equilibrium."
   ]
  },
  {
   "cell_type": "markdown",
   "metadata": {},
   "source": [
    "**Question 3:** What values of $\\tau$ and (implied) $T$ should the government choose to maximize $SWF$?"
   ]
  },
  {
   "cell_type": "code",
   "execution_count": null,
   "metadata": {},
   "outputs": [],
   "source": [
    "# write your answer here"
   ]
  },
  {
   "cell_type": "markdown",
   "metadata": {},
   "source": [
    "## 2. <a id='toc2_'></a>[Problem 2: Career choice model](#toc0_)"
   ]
  },
  {
   "cell_type": "markdown",
   "metadata": {},
   "source": [
    "Consider a graduate $i$ making a choice between entering $J$ different career tracks. <br>\n",
    "Entering career $j$ yields utility $u^k_{ij}$. This value is unknown to the graduate ex ante, but will ex post be: <br>\n",
    "$$\n",
    "    u_{i,j}^k = v_{j} + \\epsilon_{i,j}^k\n",
    "$$\n",
    "\n",
    "They know that $\\epsilon^k_{i,j}\\sim \\mathcal{N}(0,\\sigma^2)$, but they do not observe $\\epsilon^k_{i,j}$ before making their career choice. <br>"
   ]
  },
  {
   "cell_type": "markdown",
   "metadata": {},
   "source": [
    "Consider the concrete case of $J=3$ with:\n",
    "$$\n",
    "\\begin{align*}\n",
    "    v_{1} &= 1 \\\\\n",
    "    v_{2} &= 2 \\\\\n",
    "    v_{3} &= 3\n",
    "\\end{align*}\n",
    "$$"
   ]
  },
  {
   "cell_type": "markdown",
   "metadata": {},
   "source": [
    "If the graduates know the values of $v_j$ and the distribution of $\\epsilon_{i,j}^k$, they can calculate the expected utility of each career track using simulation: <br>\n",
    "$$\n",
    "    \\mathbb{E}\\left[ u^k_{i,j}\\vert v_j \\right] \\approx v_j + \\frac{1}{K}\\sum_{k=1}^K \\epsilon_{i,j}^k\n",
    "$$"
   ]
  },
  {
   "cell_type": "code",
   "execution_count": 67,
   "metadata": {},
   "outputs": [],
   "source": [
    "par = SimpleNamespace()\n",
    "par.J = 3\n",
    "par.N = 10\n",
    "par.K = 10000\n",
    "\n",
    "par.F = np.arange(1,par.N+1)\n",
    "par.sigma = 2\n",
    "\n",
    "par.v = np.array([1,2,3])\n",
    "par.c = 1"
   ]
  },
  {
   "cell_type": "markdown",
   "metadata": {},
   "source": [
    "**Question 1:** Simulate and calculate expected utility and the average realised utility for $K=10000$ draws, for each career choice $j$.\n"
   ]
  },
  {
   "cell_type": "markdown",
   "metadata": {},
   "source": [
    "We want to calculate the mean value of the utility across all simulations for each career choice and the average experienced utility across all simulations for each career choice. \n",
    "\n",
    "We will follow this structure:\n",
    "1. Simulation of the error terms.\n",
    "2. Calculating the expected utility.\n",
    "3. Calculating the average realized utility.\n",
    "4. Displaying the results.\n"
   ]
  },
  {
   "cell_type": "code",
   "execution_count": 68,
   "metadata": {},
   "outputs": [],
   "source": [
    "#Step 1: Simulation of the error terms.\n",
    "#We set the seed to 2000 to ensure reproducibility of the random numbers.\n",
    "np.random.seed(2000) \n",
    "#Now, we generate an array of numbers from a normal distribution with mean 0 and standard deviation par.sigma, which is 2.\n",
    "#The shape of the array is par.J, par.K, which means that the array of numbers has 3 rows and 10000 columns: one for each\n",
    "#career track and one for each simulation.\n",
    "array_numbers = np.random.normal(0, par.sigma, (par.J, par.K))"
   ]
  },
  {
   "cell_type": "code",
   "execution_count": 69,
   "metadata": {},
   "outputs": [],
   "source": [
    "#Step 2: Calculating the expected utility.\n",
    "#We start by creating an array that stores the expected utility for each career track.\n",
    "#The array is initialized with zeros and has a length of the array par.J.\n",
    "expected_utility = np.zeros(par.J)\n",
    "\n",
    "#Now we loop through each career track to calculate the expected utility.\n",
    "for j in range(par.J):\n",
    "    #We calculate the expected utility for career choice j.\n",
    "    #par.v[j] is the utility value for career choice j.\n",
    "    #np.mean(array_numbers[j, :]) calculates the mean of the error terms for career choice j across all simulations.\n",
    "    expected_utility[j] = par.v[j] + np.mean(array_numbers[j, :])"
   ]
  },
  {
   "cell_type": "code",
   "execution_count": 70,
   "metadata": {},
   "outputs": [],
   "source": [
    "#Step 3: Calculating the average realized utility.\n",
    "#We create an array of utility values for each career choice.\n",
    "#We reshape par.v from a 1D array into a 2D array (3, 1) so we can add the array_numbers array by matching the dimensions correctly.\n",
    "#Each utility value (1, 2, or 3) is added to the corresponding error terms across all simulations.\n",
    "realized_utility = par.v.reshape((par.J, 1)) + array_numbers\n",
    "#We now calculate the average realized utility. np.mean(realized_utility, axis=1) calculates the mean of realized_utility across \n",
    "#all 10000 simulations for each career choice..\n",
    "average_realized_utility = np.mean(realized_utility, axis=1)"
   ]
  },
  {
   "cell_type": "code",
   "execution_count": 71,
   "metadata": {},
   "outputs": [
    {
     "name": "stdout",
     "output_type": "stream",
     "text": [
      "Career choice 1:\n",
      "  Expected Utility: 1.003\n",
      "  Average Realized Utility: 1.003\n",
      "Career choice 2:\n",
      "  Expected Utility: 1.989\n",
      "  Average Realized Utility: 1.989\n",
      "Career choice 3:\n",
      "  Expected Utility: 3.003\n",
      "  Average Realized Utility: 3.003\n"
     ]
    }
   ],
   "source": [
    "#Step 4: Displaying the results.\n",
    "for j in range(par.J):\n",
    "    print(f\"Career choice {j+1}:\")\n",
    "    print(f\"  Expected Utility: {expected_utility[j]:.3f}\")\n",
    "    print(f\"  Average Realized Utility: {average_realized_utility[j]:.3f}\")"
   ]
  },
  {
   "cell_type": "markdown",
   "metadata": {},
   "source": [
    "**Conclusion**:\n",
    "\n",
    "Graduates rank the career tracks in terms of utility as follows: Career track 3 > career track 2 > career track 1 based on both their expectations and their actual experiences indicating a clear preference for career track 3.\n",
    "\n",
    "The results show that for each career choice, the expected utility and average realized utility are very close to the base utility values (1, 2, and 3) respectively. This is due to the error terms having an average of zero - therefore they don't change the base utility values much and when using 10000 simulations it helps average out any random fluctuations, making the results stable. \n",
    "\n",
    "The expected utility for each career choice represents the average utility that graduates anticipate receiving from choosing a specific career track. This is calculated based on the known utility values of the career tracks and the simulated influence of friends' utilities. It reflects the graduates' perceptions or predictions about how beneficial each career track will be before they make their decision. \n",
    "\n",
    "The average realized utility for each career choice represents the actual utility that graduates experience after choosing a specific career track. This includes the inherent utility of the career track and the graduate's own random variations in utility. It shows the true benefits that graduates receive from their chosen career tracks, accounting for the randomness and variability in real-life outcomes.\n",
    "\n",
    "The close match between expected utility and average realized utility implies that the graduates' decision-making process is effective, as their expectations are based on accurate assessments of the career tracks and they can make informed decisions based on their expectations, knowing that their actual experiences are likely to match these expectations.\n"
   ]
  },
  {
   "cell_type": "markdown",
   "metadata": {},
   "source": [
    "Now consider a new scenario: Imagine that the graduate does not know $v_j$. The *only* prior information they have on the value of each job, comes from their $F_{i}$ friends that work in each career $j$. After talking with them, they know the average utility of their friends (which includes their friends' noise term), giving them the prior expecation: <br>\n",
    "$$\n",
    "\\tilde{u}^k_{i,j}\\left( F_{i}\\right) = \\frac{1}{F_{i}}\\sum_{f=1}^{F_{i}} \\left(v_{j} + \\epsilon^k_{f,j}\\right), \\; \\epsilon^k_{f,j}\\sim \\mathcal{N}(0,\\sigma^2)\n",
    "$$\n",
    "For ease of notation consider that each graduate have $F_{i}=i$ friends in each career. <br>"
   ]
  },
  {
   "cell_type": "markdown",
   "metadata": {},
   "source": [
    "For $K$ times do the following: <br>\n",
    "1. For each person $i$ draw $J\\cdot F_i$ values of $\\epsilon_{f,j}^{k}$, and calculate the prior expected utility of each career track, $\\tilde{u}^k_{i,j}\\left( F_{i}\\right)$. <br>\n",
    "Also draw their own $J$ noise terms, $\\epsilon_{i,j}^k$\n",
    "1. Each person $i$ chooses the career track with the highest expected utility: $$j_i^{k*}= \\arg\\max_{j\\in{1,2\\dots,J}}\\left\\{ \\tilde{u}^k_{i,j}\\left( F_{i}\\right)\\right\\} $$\n",
    "1. Store the chosen careers: $j_i^{k*}$, the prior expectation of the value of their chosen career: $\\tilde{u}^k_{i,j=j_i^{k*}}\\left( F_{i}\\right)$, and the realized value of their chosen career track: $u^k_{i,j=j_i^{k*}}=v_{j=j_i^{k*}}+\\epsilon_{i,j=j_i^{k*}}^k$."
   ]
  },
  {
   "cell_type": "markdown",
   "metadata": {},
   "source": [
    "Chosen values will be: <br>\n",
    "$i\\in\\left\\{1,2\\dots,N\\right\\}, N=10$ <br>\n",
    "$F_i = i$<br>\n",
    "So there are 10 graduates. The first has 1 friend in each career, the second has 2 friends, ... the tenth has 10 friends."
   ]
  },
  {
   "cell_type": "markdown",
   "metadata": {},
   "source": [
    "**Question 2:** Simulate and visualize: For each type of graduate, $i$, the share of graduates choosing each career, the average subjective expected utility of the graduates, and the average ex post realized utility given their choice. <br>\n",
    "That is, calculate and visualize: <br>\n",
    "$$\n",
    "\\begin{align*}\n",
    "    \\frac{1}{K} \\sum_{k=1}^{K} \\mathbb{I}\\left\\{ j=j_i^{k*} \\right\\}  \\;\\forall j\\in\\left\\{1,2,\\dots,J\\right\\}\n",
    "\\end{align*}\n",
    "$$\n",
    "$$\n",
    "\\begin{align*}\n",
    "    \\frac{1}{K} \\sum_{k=1}^{K} \\tilde{u}^k_{ij=j_i^{k*}}\\left( F_{i}\\right)\n",
    "\\end{align*}\n",
    "$$\n",
    "And \n",
    "$$\n",
    "\\begin{align*}\n",
    "    \\frac{1}{K} \\sum_{k=1}^{K} u^k_{ij=j_i^{k*}} \n",
    "\\end{align*}\n",
    "$$\n",
    "For each graduate $i$."
   ]
  },
  {
   "cell_type": "markdown",
   "metadata": {},
   "source": [
    "We want to simulate and visualize the decision-making process of graduates when choosing their careers by understanding: a) or each type of graduate, the proportion of times they choose each career track across multiple simulations, b) for each type of graduate, the average expected utility they perceive for the career track they choose, considering the influence of their friends and c) for each type of graduate, the actual utility they experience for the career track they choose, accounting for random variations. \n",
    "\n",
    "We wil follow this structure:\n",
    "1. Simulation of the error terms\n",
    "2. Calculating the expected utility\n",
    "3. Caculating the averages\n",
    "4. Displaying the results"
   ]
  },
  {
   "cell_type": "code",
   "execution_count": 89,
   "metadata": {},
   "outputs": [],
   "source": [
    "#We start by creating numpy arrays to store the results of the simulations of the following:\n",
    "#The career choices array: Each row corresponds to a graduate, and each column corresponds to a career track.\n",
    "career_choices = np.zeros((par.N, par.J))\n",
    "expected_utilities = np.zeros((par.N, par.J))\n",
    "realized_utilities = np.zeros((par.N, par.J))\n",
    "\n",
    "#Step 1: Simulation of the error terms\n",
    "#We set the seed to 2000 to ensure reproducibility of the random numbers.\n",
    "np.random.seed(2000)"
   ]
  },
  {
   "cell_type": "code",
   "execution_count": 90,
   "metadata": {},
   "outputs": [],
   "source": [
    "#Step 2: Calculating the expected utility.\n",
    "#We start by making a loop over all graduates. Then we can iterate over all graduates to simulate their career choices and \n",
    "#calculate the utilites.\n",
    "for i in range(par.N):\n",
    "    #We now make a nested loop for the number of simulations.\n",
    "    for k in range(par.K):\n",
    "        #We now simulate the influence of friends' utilities, which affects the graduate's expected utility calculation.\n",
    "        #par.F[i] specifies the number of friends the i'th graduate has in each career and par.J specifies the number of career tracks.\n",
    "        friends = np.random.normal(0, par.sigma, (par.F[i], par.J))\n",
    "        \n",
    "        #Now we estimate the expected utility based on friends' influences and the inherent utility of each career track.\n",
    "        #It adds the known utility values (par.v) to the average noise from friends.\n",
    "        utility_first = par.v + friends.mean(axis=0)\n",
    "        \n",
    "        #We simulate the graduate's individual variation in utility for each career track with random noise for \n",
    "        #the graduate's own utility for each career track.\n",
    "        utility_variation = np.random.normal(0, par.sigma, par.J)\n",
    "        \n",
    "        #We obtain the final expected utility considering both the influence of friends and the graduate's own variation \n",
    "        #by adding the prior expected utility and the graduate's own noise.\n",
    "        utility_total = utility_first + utility_variation\n",
    "        \n",
    "        #We determine which career track the graduate will choose based on the calculated utilities.\n",
    "        #np.argmax(utility_total) returns the index of the career track with the highest utility.\n",
    "        chosen_career = np.argmax(utility_total)\n",
    "        \n",
    "        #We record the frequency of each career choice across simulations: how many times each career track is chosen by each graduate.\n",
    "        career_choices[i, chosen_career] += 1\n",
    "        expected_utilities[i, chosen_career] += utility_total[chosen_career]\n",
    "        realized_utilities[i, chosen_career] += par.v[chosen_career] + utility_variation[chosen_career]"
   ]
  },
  {
   "cell_type": "code",
   "execution_count": 91,
   "metadata": {},
   "outputs": [],
   "source": [
    "#Step 3: Calculating the averages.\n",
    "#This we do by dividing the three parameters with all simulations.\n",
    "#In that way we get: The average share of career choices for each career track by each graduate, the average \n",
    "#expected utility for each career track chosen by each graduat and the average realized utility for each career \n",
    "#track chosen by each graduate\n",
    "career_choices_average = career_choices / par.K\n",
    "expected_utilities_average = expected_utilities / par.K\n",
    "realized_utilities_average = realized_utilities / par.K"
   ]
  },
  {
   "cell_type": "code",
   "execution_count": 92,
   "metadata": {},
   "outputs": [
    {
     "data": {
      "text/html": [
       "<div>\n",
       "<style scoped>\n",
       "    .dataframe tbody tr th:only-of-type {\n",
       "        vertical-align: middle;\n",
       "    }\n",
       "\n",
       "    .dataframe tbody tr th {\n",
       "        vertical-align: top;\n",
       "    }\n",
       "\n",
       "    .dataframe thead th {\n",
       "        text-align: right;\n",
       "    }\n",
       "</style>\n",
       "<table border=\"1\" class=\"dataframe\">\n",
       "  <thead>\n",
       "    <tr style=\"text-align: right;\">\n",
       "      <th></th>\n",
       "      <th>Graduate</th>\n",
       "      <th>Career Track</th>\n",
       "      <th>Share of Choices</th>\n",
       "      <th>Expected Utility</th>\n",
       "      <th>Realized Utility</th>\n",
       "    </tr>\n",
       "  </thead>\n",
       "  <tbody>\n",
       "    <tr>\n",
       "      <th>0</th>\n",
       "      <td>1</td>\n",
       "      <td>1</td>\n",
       "      <td>0.2006</td>\n",
       "      <td>0.828307</td>\n",
       "      <td>0.516775</td>\n",
       "    </tr>\n",
       "    <tr>\n",
       "      <th>1</th>\n",
       "      <td>1</td>\n",
       "      <td>2</td>\n",
       "      <td>0.3090</td>\n",
       "      <td>1.380306</td>\n",
       "      <td>1.002093</td>\n",
       "    </tr>\n",
       "    <tr>\n",
       "      <th>2</th>\n",
       "      <td>1</td>\n",
       "      <td>3</td>\n",
       "      <td>0.4904</td>\n",
       "      <td>2.353270</td>\n",
       "      <td>1.918924</td>\n",
       "    </tr>\n",
       "    <tr>\n",
       "      <th>3</th>\n",
       "      <td>2</td>\n",
       "      <td>1</td>\n",
       "      <td>0.1723</td>\n",
       "      <td>0.674928</td>\n",
       "      <td>0.510720</td>\n",
       "    </tr>\n",
       "    <tr>\n",
       "      <th>4</th>\n",
       "      <td>2</td>\n",
       "      <td>2</td>\n",
       "      <td>0.3009</td>\n",
       "      <td>1.257398</td>\n",
       "      <td>1.040353</td>\n",
       "    </tr>\n",
       "    <tr>\n",
       "      <th>5</th>\n",
       "      <td>2</td>\n",
       "      <td>3</td>\n",
       "      <td>0.5268</td>\n",
       "      <td>2.368758</td>\n",
       "      <td>2.104809</td>\n",
       "    </tr>\n",
       "    <tr>\n",
       "      <th>6</th>\n",
       "      <td>3</td>\n",
       "      <td>1</td>\n",
       "      <td>0.1756</td>\n",
       "      <td>0.641429</td>\n",
       "      <td>0.525575</td>\n",
       "    </tr>\n",
       "    <tr>\n",
       "      <th>7</th>\n",
       "      <td>3</td>\n",
       "      <td>2</td>\n",
       "      <td>0.3091</td>\n",
       "      <td>1.230241</td>\n",
       "      <td>1.072556</td>\n",
       "    </tr>\n",
       "    <tr>\n",
       "      <th>8</th>\n",
       "      <td>3</td>\n",
       "      <td>3</td>\n",
       "      <td>0.5153</td>\n",
       "      <td>2.247520</td>\n",
       "      <td>2.078450</td>\n",
       "    </tr>\n",
       "    <tr>\n",
       "      <th>9</th>\n",
       "      <td>4</td>\n",
       "      <td>1</td>\n",
       "      <td>0.1682</td>\n",
       "      <td>0.596125</td>\n",
       "      <td>0.511777</td>\n",
       "    </tr>\n",
       "    <tr>\n",
       "      <th>10</th>\n",
       "      <td>4</td>\n",
       "      <td>2</td>\n",
       "      <td>0.3095</td>\n",
       "      <td>1.230641</td>\n",
       "      <td>1.109992</td>\n",
       "    </tr>\n",
       "    <tr>\n",
       "      <th>11</th>\n",
       "      <td>4</td>\n",
       "      <td>3</td>\n",
       "      <td>0.5223</td>\n",
       "      <td>2.226285</td>\n",
       "      <td>2.100416</td>\n",
       "    </tr>\n",
       "    <tr>\n",
       "      <th>12</th>\n",
       "      <td>5</td>\n",
       "      <td>1</td>\n",
       "      <td>0.1570</td>\n",
       "      <td>0.567574</td>\n",
       "      <td>0.498230</td>\n",
       "    </tr>\n",
       "    <tr>\n",
       "      <th>13</th>\n",
       "      <td>5</td>\n",
       "      <td>2</td>\n",
       "      <td>0.3096</td>\n",
       "      <td>1.208292</td>\n",
       "      <td>1.116865</td>\n",
       "    </tr>\n",
       "    <tr>\n",
       "      <th>14</th>\n",
       "      <td>5</td>\n",
       "      <td>3</td>\n",
       "      <td>0.5334</td>\n",
       "      <td>2.246913</td>\n",
       "      <td>2.123386</td>\n",
       "    </tr>\n",
       "    <tr>\n",
       "      <th>15</th>\n",
       "      <td>6</td>\n",
       "      <td>1</td>\n",
       "      <td>0.1614</td>\n",
       "      <td>0.577437</td>\n",
       "      <td>0.519703</td>\n",
       "    </tr>\n",
       "    <tr>\n",
       "      <th>16</th>\n",
       "      <td>6</td>\n",
       "      <td>2</td>\n",
       "      <td>0.3044</td>\n",
       "      <td>1.192495</td>\n",
       "      <td>1.109395</td>\n",
       "    </tr>\n",
       "    <tr>\n",
       "      <th>17</th>\n",
       "      <td>6</td>\n",
       "      <td>3</td>\n",
       "      <td>0.5342</td>\n",
       "      <td>2.237326</td>\n",
       "      <td>2.143127</td>\n",
       "    </tr>\n",
       "    <tr>\n",
       "      <th>18</th>\n",
       "      <td>7</td>\n",
       "      <td>1</td>\n",
       "      <td>0.1638</td>\n",
       "      <td>0.579826</td>\n",
       "      <td>0.532537</td>\n",
       "    </tr>\n",
       "    <tr>\n",
       "      <th>19</th>\n",
       "      <td>7</td>\n",
       "      <td>2</td>\n",
       "      <td>0.3026</td>\n",
       "      <td>1.173333</td>\n",
       "      <td>1.098507</td>\n",
       "    </tr>\n",
       "    <tr>\n",
       "      <th>20</th>\n",
       "      <td>7</td>\n",
       "      <td>3</td>\n",
       "      <td>0.5336</td>\n",
       "      <td>2.242627</td>\n",
       "      <td>2.159007</td>\n",
       "    </tr>\n",
       "    <tr>\n",
       "      <th>21</th>\n",
       "      <td>8</td>\n",
       "      <td>1</td>\n",
       "      <td>0.1592</td>\n",
       "      <td>0.565030</td>\n",
       "      <td>0.522554</td>\n",
       "    </tr>\n",
       "    <tr>\n",
       "      <th>22</th>\n",
       "      <td>8</td>\n",
       "      <td>2</td>\n",
       "      <td>0.3015</td>\n",
       "      <td>1.171863</td>\n",
       "      <td>1.112178</td>\n",
       "    </tr>\n",
       "    <tr>\n",
       "      <th>23</th>\n",
       "      <td>8</td>\n",
       "      <td>3</td>\n",
       "      <td>0.5393</td>\n",
       "      <td>2.286991</td>\n",
       "      <td>2.212762</td>\n",
       "    </tr>\n",
       "    <tr>\n",
       "      <th>24</th>\n",
       "      <td>9</td>\n",
       "      <td>1</td>\n",
       "      <td>0.1537</td>\n",
       "      <td>0.538441</td>\n",
       "      <td>0.495146</td>\n",
       "    </tr>\n",
       "    <tr>\n",
       "      <th>25</th>\n",
       "      <td>9</td>\n",
       "      <td>2</td>\n",
       "      <td>0.3128</td>\n",
       "      <td>1.198469</td>\n",
       "      <td>1.144550</td>\n",
       "    </tr>\n",
       "    <tr>\n",
       "      <th>26</th>\n",
       "      <td>9</td>\n",
       "      <td>3</td>\n",
       "      <td>0.5335</td>\n",
       "      <td>2.249786</td>\n",
       "      <td>2.181513</td>\n",
       "    </tr>\n",
       "    <tr>\n",
       "      <th>27</th>\n",
       "      <td>10</td>\n",
       "      <td>1</td>\n",
       "      <td>0.1614</td>\n",
       "      <td>0.561327</td>\n",
       "      <td>0.525010</td>\n",
       "    </tr>\n",
       "    <tr>\n",
       "      <th>28</th>\n",
       "      <td>10</td>\n",
       "      <td>2</td>\n",
       "      <td>0.2996</td>\n",
       "      <td>1.142172</td>\n",
       "      <td>1.097358</td>\n",
       "    </tr>\n",
       "    <tr>\n",
       "      <th>29</th>\n",
       "      <td>10</td>\n",
       "      <td>3</td>\n",
       "      <td>0.5390</td>\n",
       "      <td>2.258721</td>\n",
       "      <td>2.199019</td>\n",
       "    </tr>\n",
       "  </tbody>\n",
       "</table>\n",
       "</div>"
      ],
      "text/plain": [
       "    Graduate  Career Track  Share of Choices  Expected Utility  \\\n",
       "0          1             1            0.2006          0.828307   \n",
       "1          1             2            0.3090          1.380306   \n",
       "2          1             3            0.4904          2.353270   \n",
       "3          2             1            0.1723          0.674928   \n",
       "4          2             2            0.3009          1.257398   \n",
       "5          2             3            0.5268          2.368758   \n",
       "6          3             1            0.1756          0.641429   \n",
       "7          3             2            0.3091          1.230241   \n",
       "8          3             3            0.5153          2.247520   \n",
       "9          4             1            0.1682          0.596125   \n",
       "10         4             2            0.3095          1.230641   \n",
       "11         4             3            0.5223          2.226285   \n",
       "12         5             1            0.1570          0.567574   \n",
       "13         5             2            0.3096          1.208292   \n",
       "14         5             3            0.5334          2.246913   \n",
       "15         6             1            0.1614          0.577437   \n",
       "16         6             2            0.3044          1.192495   \n",
       "17         6             3            0.5342          2.237326   \n",
       "18         7             1            0.1638          0.579826   \n",
       "19         7             2            0.3026          1.173333   \n",
       "20         7             3            0.5336          2.242627   \n",
       "21         8             1            0.1592          0.565030   \n",
       "22         8             2            0.3015          1.171863   \n",
       "23         8             3            0.5393          2.286991   \n",
       "24         9             1            0.1537          0.538441   \n",
       "25         9             2            0.3128          1.198469   \n",
       "26         9             3            0.5335          2.249786   \n",
       "27        10             1            0.1614          0.561327   \n",
       "28        10             2            0.2996          1.142172   \n",
       "29        10             3            0.5390          2.258721   \n",
       "\n",
       "    Realized Utility  \n",
       "0           0.516775  \n",
       "1           1.002093  \n",
       "2           1.918924  \n",
       "3           0.510720  \n",
       "4           1.040353  \n",
       "5           2.104809  \n",
       "6           0.525575  \n",
       "7           1.072556  \n",
       "8           2.078450  \n",
       "9           0.511777  \n",
       "10          1.109992  \n",
       "11          2.100416  \n",
       "12          0.498230  \n",
       "13          1.116865  \n",
       "14          2.123386  \n",
       "15          0.519703  \n",
       "16          1.109395  \n",
       "17          2.143127  \n",
       "18          0.532537  \n",
       "19          1.098507  \n",
       "20          2.159007  \n",
       "21          0.522554  \n",
       "22          1.112178  \n",
       "23          2.212762  \n",
       "24          0.495146  \n",
       "25          1.144550  \n",
       "26          2.181513  \n",
       "27          0.525010  \n",
       "28          1.097358  \n",
       "29          2.199019  "
      ]
     },
     "execution_count": 92,
     "metadata": {},
     "output_type": "execute_result"
    }
   ],
   "source": [
    "#Step 4: Displaying the results in a table\n",
    "results = []\n",
    "\n",
    "for i in range(par.N):\n",
    "    for j in range(par.J):\n",
    "        results.append({\n",
    "            'Graduate': i + 1,\n",
    "            'Career track': j + 1,\n",
    "            'Share of choices': career_choices_average[i, j],\n",
    "            'Expected utility': expected_utilities_average[i, j],\n",
    "            'Realized utility': realized_utilities_average[i, j]\n",
    "        })\n",
    "\n",
    "results_df = pd.DataFrame(results)\n",
    "\n",
    "results_df"
   ]
  },
  {
   "cell_type": "markdown",
   "metadata": {},
   "source": [
    "In the table above, each row represents a specific combination of graduate and career track, and each column provides specific information about that combination.\n",
    "\n",
    "*Graduate* is the graduate number and ranges from 1 to par.N (10), *career track* is the career track number ranging from 1 to par.J (3), *share of choices* is the proportion of times this career track was chosen by this graduate across all simulations, *expected utility* is the average expected utility perceived by this graduate for this career track across all simulations, *realized utility* is the average realized utility experienced by this graduate for this career track across all simulations.\n",
    "\n",
    "The first three rows can therefore be read as: Graduate 1 chose career track 1 about 20.06% of the time, career track 2 about 30.90% of the time, and career track 3 about 49.04% of the time. Therefore, career track 3 was the most popular choice among graduate 1. The expected utility for this graduate choosing career track 3 is approximately 2.35, which is higher than the expected utilities for career track 1 (0.83) and career track 2 (1.83). This suggests that graduate 1 perceives career track 3 to be significantly more beneficial compared to the other tracks. This also aligns with the realized utility.\n",
    "\n",
    "**Conclusion**:\n",
    "\n",
    "Most graduates show a strong preference for career track 3, as indicated by higher shares of choices, expected utilities, and realized utilities. Career track 2 is moderately preferred, while career track 1 is the least preferred across most graduates. The utilities also follow this ranking. However, the values of expected and realized utilities vary across career tracks, highlighting the personalized nature of career decisions. Therefore, even accounting for individual graduate differences and the influence of friends' noise, graduates are most likely to choose career track 3, which consistently has the highest expected and realized utility."
   ]
  },
  {
   "cell_type": "markdown",
   "metadata": {},
   "source": [
    "After a year of working in their career, the graduates learn $u^k_{ij}$ for their chosen job $j_i^{k*}$ perfectly. <br>\n",
    "The can switch to one of the two remaining careers, for which they have the same prior as before, but it will now include a switching cost of $c$ which is known.\n",
    "Their new priors can be written as: \n",
    "$$\n",
    "\\tilde{u}^{k,2}_{ij}\\left( F_{i}\\right) = \\begin{cases}\n",
    "            \\tilde{u}^k_{ij}\\left( F_{i}\\right)-c & \\text{if } j \\neq j_i^{k*} \\\\\n",
    "            u_{ij=j_i^{k*}} & \\text{if } j = j_i^{k*}\n",
    "        \\end{cases}\n",
    "$$"
   ]
  },
  {
   "cell_type": "markdown",
   "metadata": {},
   "source": [
    "We will set $c=1$."
   ]
  },
  {
   "cell_type": "markdown",
   "metadata": {},
   "source": [
    "Their realized utility will be: <br>\n",
    "$$\n",
    "u^{k,2}_{ij}= \\begin{cases}\n",
    "            u_{ij}^k -c & \\text{if } j \\neq j_i^{k*} \\\\\n",
    "            u_{ij=j_i^{k*}} & \\text{if } j = j_i^{k*}\n",
    "        \\end{cases}\n",
    "$$"
   ]
  },
  {
   "cell_type": "markdown",
   "metadata": {},
   "source": [
    "**Question 3:** Following the same approach as in question 2, find the new optimal career choice for each $i$, $k$. Then for each $i$, calculate the average subjective expected utility from their new optimal career choice, and the ex post realized utility of that career. Also, for each $i$, calculate the share of graduates that chooses to switch careers, conditional on which career they chose in the first year. <br>"
   ]
  },
  {
   "cell_type": "code",
   "execution_count": null,
   "metadata": {},
   "outputs": [],
   "source": [
    "# write your answer here"
   ]
  },
  {
   "cell_type": "markdown",
   "metadata": {},
   "source": [
    "## 3. <a id='toc3_'></a>[Problem 3: Barycentric interpolation](#toc0_)"
   ]
  },
  {
   "cell_type": "markdown",
   "metadata": {},
   "source": [
    "**Problem:** We have a set of random points in the unit square,\n",
    "\n",
    "$$\n",
    "\\mathcal{X} = \\{(x_1,x_2)\\,|\\,x_1\\sim\\mathcal{U}(0,1),x_2\\sim\\mathcal{U}(0,1)\\}.\n",
    "$$\n",
    "\n",
    "For these points, we know the value of some function $f(x_1,x_2)$,\n",
    "\n",
    "$$\n",
    "\\mathcal{F} = \\{f(x_1,x_2) \\,|\\, (x_1,x_2) \\in \\mathcal{X}\\}.\n",
    "$$\n",
    "\n",
    "Now we want to approximate the value $f(y_1,y_2)$ for some  $y=(y_1,y_2)$, where $y_1\\sim\\mathcal{U}(0,1)$ and $y_2\\sim\\mathcal{U}(0,1)$.\n",
    "\n",
    "**Building block I**\n",
    "\n",
    "For an arbitrary triangle $ABC$ and a point $y$, define the so-called barycentric coordinates as:\n",
    "\n",
    "$$\n",
    "\\begin{align*}\n",
    "  r^{ABC}_1 &= \\frac{(B_2-C_2)(y_1-C_1) + (C_1-B_1)(y_2-C_2)}{(B_2-C_2)(A_1-C_1) + (C_1-B_1)(A_2-C_2)} \\\\\n",
    "  r^{ABC}_2 &= \\frac{(C_2-A_2)(y_1-C_1) + (A_1-C_1)(y_2-C_2)}{(B_2-C_2)(A_1-C_1) + (C_1-B_1)(A_2-C_2)} \\\\\n",
    "  r^{ABC}_3 &= 1 - r_1 - r_2.\n",
    "\\end{align*}\n",
    "$$\n",
    "\n",
    "If $r^{ABC}_1 \\in [0,1]$, $r^{ABC}_2 \\in [0,1]$, and $r^{ABC}_3 \\in [0,1]$, then the point is inside the triangle.\n",
    "\n",
    "We always have $y = r^{ABC}_1 A + r^{ABC}_2 B + r^{ABC}_3 C$.\n",
    "\n",
    "**Building block II**\n",
    "\n",
    "Define the following points:\n",
    "\n",
    "$$\n",
    "\\begin{align*}\n",
    "A&=\\arg\\min_{(x_{1},x_{2})\\in\\mathcal{X}}\\sqrt{\\left(x_{1}-y_{1}\\right)^{2}+\\left(x_{2}-y_{2}\\right)^{2}}\\text{ s.t. }x_{1}>y_{1}\\text{ and }x_{2}>y_{2}\\\\\n",
    "B&=\\arg\\min_{(x_{1},x_{2})\\in\\mathcal{X}}\\sqrt{\\left(x_{1}-y_{1}\\right)^{2}+\\left(x_{2}-y_{2}\\right)^{2}}\\text{ s.t. }x_{1}>y_{1}\\text{ and }x_{2}<y_{2}\\\\\n",
    "C&=\\arg\\min_{(x_{1},x_{2})\\in\\mathcal{X}}\\sqrt{\\left(x_{1}-y_{1}\\right)^{2}+\\left(x_{2}-y_{2}\\right)^{2}}\\text{ s.t. }x_{1}<y_{1}\\text{ and }x_{2}<y_{2}\\\\\n",
    "D&=\\arg\\min_{(x_{1},x_{2})\\in\\mathcal{X}}\\sqrt{\\left(x_{1}-y_{1}\\right)^{2}+\\left(x_{2}-y_{2}\\right)^{2}}\\text{ s.t. }x_{1}<y_{1}\\text{ and }x_{2}>y_{2}.\n",
    "\\end{align*}\n",
    "$$\n",
    "\n",
    "**Algorithm:**\n",
    "\n",
    "1. Compute $A$, $B$, $C$, and $D$. If not possible return `NaN`.\n",
    "1. If $y$ is inside the triangle $ABC$ return $r^{ABC}_1 f(A) + r^{ABC}_2 f(B) + r^{ABC}_3 f(C)$.\n",
    "1. If $y$ is inside the triangle $CDA$ return $r^{CDA}_1 f(C) + r^{CDA}_2 f(D) + r^{CDA}_3 f(A)$.\n",
    "1. Return `NaN`.\n",
    "\n"
   ]
  },
  {
   "cell_type": "markdown",
   "metadata": {},
   "source": [
    "**Sample:**"
   ]
  },
  {
   "cell_type": "code",
   "execution_count": null,
   "metadata": {},
   "outputs": [],
   "source": [
    "rng = np.random.default_rng(2024)\n",
    "\n",
    "X = rng.uniform(size=(50,2))\n",
    "y = rng.uniform(size=(2,))\n"
   ]
  },
  {
   "cell_type": "markdown",
   "metadata": {},
   "source": [
    "**Questions 1:** Find $A$, $B$, $C$ and $D$. Illustrate these together with $X$, $y$ and the triangles $ABC$ and $CDA$."
   ]
  },
  {
   "cell_type": "code",
   "execution_count": null,
   "metadata": {},
   "outputs": [],
   "source": [
    "# write your answer here"
   ]
  },
  {
   "cell_type": "markdown",
   "metadata": {},
   "source": [
    "**Question 2:** Compute the barycentric coordinates of the point $y$ with respect to the triangles $ABC$ and $CDA$. Which triangle is $y$ located inside?"
   ]
  },
  {
   "cell_type": "code",
   "execution_count": null,
   "metadata": {},
   "outputs": [],
   "source": [
    "# write your answer here"
   ]
  },
  {
   "cell_type": "markdown",
   "metadata": {},
   "source": [
    "Now consider the function:\n",
    "$$\n",
    "f(x_1,x_2) = x_1 \\cdot x_2\n",
    "$$"
   ]
  },
  {
   "cell_type": "code",
   "execution_count": null,
   "metadata": {},
   "outputs": [],
   "source": [
    "f = lambda x: x[0]*x[1]\n",
    "F = np.array([f(x) for x in X])"
   ]
  },
  {
   "cell_type": "markdown",
   "metadata": {},
   "source": [
    "**Question 3:** Compute the approximation of $f(y)$ using the full algorithm. Compare with the true value."
   ]
  },
  {
   "cell_type": "code",
   "execution_count": null,
   "metadata": {},
   "outputs": [],
   "source": [
    "# write your answer here"
   ]
  },
  {
   "cell_type": "markdown",
   "metadata": {},
   "source": [
    "**Question 4:** Repeat question 3 for all points in the set $Y$."
   ]
  },
  {
   "cell_type": "code",
   "execution_count": null,
   "metadata": {},
   "outputs": [],
   "source": [
    "Y = [(0.2,0.2),(0.8,0.2),(0.8,0.8),(0.8,0.2),(0.5,0.5)]"
   ]
  },
  {
   "cell_type": "code",
   "execution_count": null,
   "metadata": {},
   "outputs": [],
   "source": [
    "# write your answer here"
   ]
  }
 ],
 "metadata": {
  "kernelspec": {
   "display_name": "base",
   "language": "python",
   "name": "python3"
  },
  "language_info": {
   "codemirror_mode": {
    "name": "ipython",
    "version": 3
   },
   "file_extension": ".py",
   "mimetype": "text/x-python",
   "name": "python",
   "nbconvert_exporter": "python",
   "pygments_lexer": "ipython3",
   "version": "3.11.8"
  }
 },
 "nbformat": 4,
 "nbformat_minor": 2
}

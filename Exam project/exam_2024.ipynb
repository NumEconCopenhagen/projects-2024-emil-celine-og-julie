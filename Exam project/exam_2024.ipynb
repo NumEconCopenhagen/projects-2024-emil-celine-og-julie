{
 "cells": [
  {
   "cell_type": "markdown",
   "metadata": {},
   "source": [
    "**Table of contents**<a id='toc0_'></a>    \n",
    "- 1. [Problem 1: Production economy and CO2 taxation](#toc1_)    \n",
    "- 2. [Problem 2: Career choice model](#toc2_)    \n",
    "- 3. [Problem 3: Barycentric interpolation](#toc3_)    \n",
    "\n",
    "<!-- vscode-jupyter-toc-config\n",
    "\tnumbering=true\n",
    "\tanchor=true\n",
    "\tflat=false\n",
    "\tminLevel=2\n",
    "\tmaxLevel=6\n",
    "\t/vscode-jupyter-toc-config -->\n",
    "<!-- THIS CELL WILL BE REPLACED ON TOC UPDATE. DO NOT WRITE YOUR TEXT IN THIS CELL -->"
   ]
  },
  {
   "cell_type": "code",
   "execution_count": 1,
   "metadata": {},
   "outputs": [],
   "source": [
    "# Write your code here\n",
    "import numpy as np\n",
    "import pandas as pd #til opgave 2\n",
    "import matplotlib.pyplot as plt #til opgave 2\n",
    "from types import SimpleNamespace"
   ]
  },
  {
   "cell_type": "markdown",
   "metadata": {},
   "source": [
    "## 1. <a id='toc1_'></a>[Problem 1: Production economy and CO2 taxation](#toc0_)"
   ]
  },
  {
   "cell_type": "markdown",
   "metadata": {},
   "source": [
    "Consider a production economy with two firms indexed by $j \\in \\{1,2\\}$. Each produce its own good. They solve\n",
    "\n",
    "$$\n",
    "\\begin{align*}\n",
    "\\max_{y_{j}}\\pi_{j}&=p_{j}y_{j}-w_{j}\\ell_{j}\\\\\\text{s.t.}\\;&y_{j}=A\\ell_{j}^{\\gamma}.\n",
    "\\end{align*}\n",
    "$$\n",
    "\n",
    "Optimal firm behavior is\n",
    "\n",
    "$$\n",
    "\\begin{align*}\n",
    "\\ell_{j}^{\\star}(w,p_{j})&=\\left(\\frac{p_{j}A\\gamma}{w}\\right)^{\\frac{1}{1-\\gamma}} \\\\\n",
    "y_{j}^{\\star}(w,p_{j})&=A\\left(\\ell_{j}^{\\star}(w,p_{j})\\right)^{\\gamma}\n",
    "\\end{align*}\n",
    "$$\n",
    "\n",
    "The implied profits are\n",
    "\n",
    "$$\n",
    "\\pi_{j}^*(w,p_{j})=\\frac{1-\\gamma}{\\gamma}w\\cdot\\left(\\frac{p_{j}A\\gamma}{w}\\right)^{\\frac{1}{1-\\gamma}}\n",
    "$$\n",
    "\n",
    "A single consumer supplies labor, and consumes the goods the firms produce. She also recieves the implied profits of the firm.<br>\n",
    "She solves:\n",
    "\n",
    "$$\n",
    "\\begin{align*}\n",
    "U(p_1,p_2,w,\\tau,T) = \\max_{c_{1},c_{2},\\ell} & \\log(c_{1}^{\\alpha}c_{2}^{1-\\alpha})-\\nu\\frac{\\ell^{1+\\epsilon}}{1+\\epsilon} \\\\\n",
    "\\text{s.t.}\\,\\,\\,&p_{1}c_{1}+(p_{2}+\\tau)c_{2}=w\\ell+T+\\pi_{1}^*(w,p_{1})+\\pi_{2}^*(w,p_{2})\n",
    "\\end{align*}\n",
    "$$\n",
    "\n",
    "where $\\tau$ is a tax and $T$ is lump-sum transfer. <br>\n",
    "For a given $\\ell$, it can be shown that optimal behavior is\n",
    "\n",
    "$$\n",
    "\\begin{align*}\n",
    "c_{1}(\\ell)&=\\alpha\\frac{w\\ell+T+\\pi_{1}^*(w,p_{1})+\\pi_{2}^*(w,p_{2})}{p_{1}} \\\\\n",
    "c_{2}(\\ell)&=(1-\\alpha)\\frac{w\\ell+T+\\pi_{1}^*(w,p_{1})+\\pi_{2}^*(w,p_{2})}{p_{2}+\\tau} \\\\\n",
    "\\end{align*}\n",
    "$$\n",
    "Such that optimal behavior is:\n",
    "$$\n",
    "\\ell^* = \\underset{\\ell}{\\arg\\max} \\log(\\left(c_{1}(\\ell)\\right)^{\\alpha}\\cdot \\left(c_{2}(\\ell)\\right)^{1-\\alpha})-\\nu\\frac{\\ell^{1+\\epsilon}}{1+\\epsilon} \n",
    "$$\n",
    "With optimal consumption:\n",
    "$$\n",
    "\\begin{align*}\n",
    "c_1^*=c_{1}(\\ell^*) \\\\\n",
    "c_2^*=c_{2}(\\ell^*)\\\\\n",
    "\\end{align*}\n",
    "$$\n",
    "\n",
    "\n",
    "The government chooses $\\tau$ and balances its budget so $T=\\tau c_2^*$. We initially set $\\tau,T=0$.\n",
    "\n",
    "Market clearing requires:\n",
    "\n",
    "1. Labor market: $\\ell^* = \\ell_1^* + \\ell_2^*$\n",
    "1. Good market 1: $c_1^* = y_1^*$\n",
    "1. Good market 2: $c_2^* = y_2^*$\n"
   ]
  },
  {
   "cell_type": "markdown",
   "metadata": {},
   "source": [
    "**Question 1:** Check market clearing conditions for $p_1$ in `linspace(0.1,2.0,10)` and $p_2$ in `linspace(0.1,2.0,10)`. We choose $w=1$ as numeraire."
   ]
  },
  {
   "cell_type": "code",
   "execution_count": 27,
   "metadata": {},
   "outputs": [],
   "source": [
    "par = SimpleNamespace()\n",
    "\n",
    "# firms\n",
    "par.A = 1.0\n",
    "par.gamma = 0.5\n",
    "\n",
    "# households\n",
    "par.alpha = 0.3\n",
    "par.nu = 1.0\n",
    "par.epsilon = 2.0\n",
    "\n",
    "# government\n",
    "par.tau = 0.0\n",
    "par.T = 0.0\n",
    "\n",
    "# Question 3\n",
    "par.kappa = 0.1"
   ]
  },
  {
   "cell_type": "code",
   "execution_count": 3,
   "metadata": {},
   "outputs": [],
   "source": [
    "# write you answer here"
   ]
  },
  {
   "cell_type": "markdown",
   "metadata": {},
   "source": [
    "**Question 2:** Find the equilibrium prices $p_1$ and $p_2$.<br>\n",
    "*Hint: you can use Walras' law to only check 2 of the market clearings*"
   ]
  },
  {
   "cell_type": "code",
   "execution_count": null,
   "metadata": {},
   "outputs": [],
   "source": [
    "# write your answer here"
   ]
  },
  {
   "cell_type": "markdown",
   "metadata": {},
   "source": [
    "Assume the government care about the social welfare function:\n",
    "\n",
    "$$\n",
    "SWF = U - \\kappa y_2^*\n",
    "$$"
   ]
  },
  {
   "cell_type": "markdown",
   "metadata": {},
   "source": [
    "Here $\\kappa$ measures the social cost of carbon emitted by the production of $y_2$ in equilibrium."
   ]
  },
  {
   "cell_type": "markdown",
   "metadata": {},
   "source": [
    "**Question 3:** What values of $\\tau$ and (implied) $T$ should the government choose to maximize $SWF$?"
   ]
  },
  {
   "cell_type": "code",
   "execution_count": null,
   "metadata": {},
   "outputs": [],
   "source": [
    "# write your answer here"
   ]
  },
  {
   "cell_type": "markdown",
   "metadata": {},
   "source": [
    "## 2. <a id='toc2_'></a>[Problem 2: Career choice model](#toc0_)"
   ]
  },
  {
   "cell_type": "markdown",
   "metadata": {},
   "source": [
    "Consider a graduate $i$ making a choice between entering $J$ different career tracks. <br>\n",
    "Entering career $j$ yields utility $u^k_{ij}$. This value is unknown to the graduate ex ante, but will ex post be: <br>\n",
    "$$\n",
    "    u_{i,j}^k = v_{j} + \\epsilon_{i,j}^k\n",
    "$$\n",
    "\n",
    "They know that $\\epsilon^k_{i,j}\\sim \\mathcal{N}(0,\\sigma^2)$, but they do not observe $\\epsilon^k_{i,j}$ before making their career choice. <br>"
   ]
  },
  {
   "cell_type": "markdown",
   "metadata": {},
   "source": [
    "Consider the concrete case of $J=3$ with:\n",
    "$$\n",
    "\\begin{align*}\n",
    "    v_{1} &= 1 \\\\\n",
    "    v_{2} &= 2 \\\\\n",
    "    v_{3} &= 3\n",
    "\\end{align*}\n",
    "$$"
   ]
  },
  {
   "cell_type": "markdown",
   "metadata": {},
   "source": [
    "If the graduates know the values of $v_j$ and the distribution of $\\epsilon_{i,j}^k$, they can calculate the expected utility of each career track using simulation: <br>\n",
    "$$\n",
    "    \\mathbb{E}\\left[ u^k_{i,j}\\vert v_j \\right] \\approx v_j + \\frac{1}{K}\\sum_{k=1}^K \\epsilon_{i,j}^k\n",
    "$$"
   ]
  },
  {
   "cell_type": "code",
   "execution_count": 2,
   "metadata": {},
   "outputs": [],
   "source": [
    "par = SimpleNamespace()\n",
    "par.J = 3\n",
    "par.N = 10\n",
    "par.K = 10000\n",
    "\n",
    "par.F = np.arange(1,par.N+1)\n",
    "par.sigma = 2\n",
    "\n",
    "par.v = np.array([1,2,3])\n",
    "par.c = 1"
   ]
  },
  {
   "cell_type": "markdown",
   "metadata": {},
   "source": [
    "**Question 1:** Simulate and calculate expected utility and the average realised utility for $K=10000$ draws, for each career choice $j$.\n"
   ]
  },
  {
   "cell_type": "markdown",
   "metadata": {},
   "source": [
    "We want to calculate the mean value of the utility across all simulations for each career choice and the average experienced utility across all simulations for each career choice. \n",
    "\n",
    "We will follow this structure:\n",
    "1. Simulation of the error terms.\n",
    "2. Calculating the expected utility.\n",
    "3. Calculating the average realized utility.\n",
    "4. Displaying the results.\n"
   ]
  },
  {
   "cell_type": "code",
   "execution_count": 3,
   "metadata": {},
   "outputs": [],
   "source": [
    "#Step 1: Simulation of the error terms.\n",
    "#We set the seed to 42 to ensure reproducibility of the random numbers.\n",
    "np.random.seed(42) \n",
    "#Now, we generate an array of numbers from a normal distribution with mean 0 and standard deviation par.sigma, which is 2.\n",
    "#The shape of the array is par.J, par.K, which means that the array of numbers has 3 rows and 10000 columns: one for each\n",
    "#career track and one for each simulation.\n",
    "array_numbers = np.random.normal(0, par.sigma, (par.J, par.K))"
   ]
  },
  {
   "cell_type": "code",
   "execution_count": 4,
   "metadata": {},
   "outputs": [],
   "source": [
    "#Step 2: Calculating the expected utility.\n",
    "#We start by creating an array that stores the expected utility for each career track.\n",
    "#The array is initialized with zeros and has a length of the array par.J.\n",
    "expected_utility = np.zeros(par.J)\n",
    "\n",
    "#Now we loop through each career track to calculate the expected utility.\n",
    "for j in range(par.J):\n",
    "    #We calculate the expected utility for career choice j.\n",
    "    #par.v[j] is the utility value for career choice j.\n",
    "    #np.mean(array_numbers[j, :]) calculates the mean of the error terms for career choice j across all simulations.\n",
    "    expected_utility[j] = par.v[j] + np.mean(array_numbers[j, :])"
   ]
  },
  {
   "cell_type": "code",
   "execution_count": 5,
   "metadata": {},
   "outputs": [],
   "source": [
    "#Step 3: Calculating the average realized utility.\n",
    "#We create an array of utility values for each career choice.\n",
    "#We reshape par.v from a 1D array into a 2D array (3, 1) so we can add the array_numbers array by matching the dimensions correctly.\n",
    "#Each utility value (1, 2, or 3) is added to the corresponding error terms across all simulations.\n",
    "realized_utility = par.v.reshape((par.J, 1)) + array_numbers\n",
    "#We now calculate the average realized utility. np.mean(realized_utility, axis=1) calculates the mean of realized_utility across \n",
    "#all 10000 simulations for each career choice..\n",
    "average_realized_utility = np.mean(realized_utility, axis=1)"
   ]
  },
  {
   "cell_type": "code",
   "execution_count": 6,
   "metadata": {},
   "outputs": [
    {
     "name": "stdout",
     "output_type": "stream",
     "text": [
      "Career choice 1:\n",
      "  Expected Utility: 0.996\n",
      "  Average Realized Utility: 0.996\n",
      "Career choice 2:\n",
      "  Expected Utility: 2.027\n",
      "  Average Realized Utility: 2.027\n",
      "Career choice 3:\n",
      "  Expected Utility: 2.975\n",
      "  Average Realized Utility: 2.975\n"
     ]
    }
   ],
   "source": [
    "#Step 4: Displaying the results.\n",
    "for j in range(par.J):\n",
    "    print(f\"Career choice {j+1}:\")\n",
    "    print(f\"  Expected Utility: {expected_utility[j]:.3f}\")\n",
    "    print(f\"  Average Realized Utility: {average_realized_utility[j]:.3f}\")"
   ]
  },
  {
   "cell_type": "markdown",
   "metadata": {},
   "source": [
    "**Conclusion**:\n",
    "\n",
    "Graduates rank the career tracks in terms of utility as follows: Career track 3 > career track 2 > career track 1 based on both their expectations and their actual experiences indicating a clear preference for career track 3.\n",
    "\n",
    "The results show that for each career choice, the expected utility and average realized utility are very close to the base utility values (1, 2, and 3) respectively. This is due to the error terms having an average of zero - therefore they don't change the base utility values much and when using 10000 simulations it helps average out any random fluctuations, making the results stable. \n",
    "\n",
    "The expected utility for each career choice represents the average utility that graduates anticipate receiving from choosing a specific career track. This is calculated based on the known utility values of the career tracks and the simulated influence of friends' utilities. It reflects the graduates' perceptions or predictions about how beneficial each career track will be before they make their decision. \n",
    "\n",
    "The average realized utility for each career choice represents the actual utility that graduates experience after choosing a specific career track. This includes the inherent utility of the career track and the graduate's own random variations in utility. It shows the true benefits that graduates receive from their chosen career tracks, accounting for the randomness and variability in real-life outcomes.\n",
    "\n",
    "The close match between expected utility and average realized utility implies that the graduates' decision-making process is effective, as their expectations are based on accurate assessments of the career tracks and they can make informed decisions based on their expectations, knowing that their actual experiences are likely to match these expectations.\n"
   ]
  },
  {
   "cell_type": "markdown",
   "metadata": {},
   "source": [
    "Now consider a new scenario: Imagine that the graduate does not know $v_j$. The *only* prior information they have on the value of each job, comes from their $F_{i}$ friends that work in each career $j$. After talking with them, they know the average utility of their friends (which includes their friends' noise term), giving them the prior expecation: <br>\n",
    "$$\n",
    "\\tilde{u}^k_{i,j}\\left( F_{i}\\right) = \\frac{1}{F_{i}}\\sum_{f=1}^{F_{i}} \\left(v_{j} + \\epsilon^k_{f,j}\\right), \\; \\epsilon^k_{f,j}\\sim \\mathcal{N}(0,\\sigma^2)\n",
    "$$\n",
    "For ease of notation consider that each graduate have $F_{i}=i$ friends in each career. <br>"
   ]
  },
  {
   "cell_type": "markdown",
   "metadata": {},
   "source": [
    "For $K$ times do the following: <br>\n",
    "1. For each person $i$ draw $J\\cdot F_i$ values of $\\epsilon_{f,j}^{k}$, and calculate the prior expected utility of each career track, $\\tilde{u}^k_{i,j}\\left( F_{i}\\right)$. <br>\n",
    "Also draw their own $J$ noise terms, $\\epsilon_{i,j}^k$\n",
    "1. Each person $i$ chooses the career track with the highest expected utility: $$j_i^{k*}= \\arg\\max_{j\\in{1,2\\dots,J}}\\left\\{ \\tilde{u}^k_{i,j}\\left( F_{i}\\right)\\right\\} $$\n",
    "1. Store the chosen careers: $j_i^{k*}$, the prior expectation of the value of their chosen career: $\\tilde{u}^k_{i,j=j_i^{k*}}\\left( F_{i}\\right)$, and the realized value of their chosen career track: $u^k_{i,j=j_i^{k*}}=v_{j=j_i^{k*}}+\\epsilon_{i,j=j_i^{k*}}^k$."
   ]
  },
  {
   "cell_type": "markdown",
   "metadata": {},
   "source": [
    "Chosen values will be: <br>\n",
    "$i\\in\\left\\{1,2\\dots,N\\right\\}, N=10$ <br>\n",
    "$F_i = i$<br>\n",
    "So there are 10 graduates. The first has 1 friend in each career, the second has 2 friends, ... the tenth has 10 friends."
   ]
  },
  {
   "cell_type": "markdown",
   "metadata": {},
   "source": [
    "**Question 2:** Simulate and visualize: For each type of graduate, $i$, the share of graduates choosing each career, the average subjective expected utility of the graduates, and the average ex post realized utility given their choice. <br>\n",
    "That is, calculate and visualize: <br>\n",
    "$$\n",
    "\\begin{align*}\n",
    "    \\frac{1}{K} \\sum_{k=1}^{K} \\mathbb{I}\\left\\{ j=j_i^{k*} \\right\\}  \\;\\forall j\\in\\left\\{1,2,\\dots,J\\right\\}\n",
    "\\end{align*}\n",
    "$$\n",
    "$$\n",
    "\\begin{align*}\n",
    "    \\frac{1}{K} \\sum_{k=1}^{K} \\tilde{u}^k_{ij=j_i^{k*}}\\left( F_{i}\\right)\n",
    "\\end{align*}\n",
    "$$\n",
    "And \n",
    "$$\n",
    "\\begin{align*}\n",
    "    \\frac{1}{K} \\sum_{k=1}^{K} u^k_{ij=j_i^{k*}} \n",
    "\\end{align*}\n",
    "$$\n",
    "For each graduate $i$."
   ]
  },
  {
   "cell_type": "markdown",
   "metadata": {},
   "source": [
    "We want to simulate and visualize the decision-making process of graduates when choosing their careers by understanding: a) or each type of graduate, the proportion of times they choose each career track across multiple simulations, b) for each type of graduate, the average expected utility they perceive for the career track they choose, considering the influence of their friends and c) for each type of graduate, the actual utility they experience for the career track they choose, accounting for random variations. \n",
    "\n",
    "We wil follow this structure:\n",
    "1. Define simulation function: Generate random error terms for friends and personal utilities, calculate prior expected utilities for each career track, determine the career choice with the highest expected utility, calculate the realized utility for the chosen career and store the results for each simulation.\n",
    "2. Perform the simulation\n",
    "3. Aggregate results\n",
    "4. Display aggregated results\n",
    "5. Extract data for plotting\n",
    "6. Plot the results"
   ]
  },
  {
   "cell_type": "code",
   "execution_count": 7,
   "metadata": {},
   "outputs": [],
   "source": [
    "#We ensure that when we print a dataframe, pandas will show all rows and columns, fit the display width automatically.\n",
    "pd.set_option('display.max_rows', None)\n",
    "pd.set_option('display.max_columns', None)\n",
    "pd.set_option('display.width', None)\n",
    "pd.set_option('display.max_colwidth', None)\n",
    "\n",
    "#Step 1: Define simulation function\n",
    "#This function simulates the career choices for the given parameters.\n",
    "def simulate_career_choices(seed=42):\n",
    "    np.random.seed(seed)\n",
    "    results = []\n",
    "\n",
    "    for k in range(par.K):\n",
    "        #Step 1.1: We generate random error terms for friends and personal utilities\n",
    "        error_friends = {i: np.random.normal(0, par.sigma, (i, par.J)) for i in range(1, par.N + 1)}\n",
    "        error_personal = {i: np.random.normal(0, par.sigma, par.J) for i in range(1, par.N + 1)}\n",
    "\n",
    "        for i in range(1, par.N + 1):\n",
    "            #Step 1.2: We calculate prior expected utilities\n",
    "            first_expected_utility = par.v + np.mean(error_friends[i], axis=0)\n",
    "\n",
    "            #Step 1.3: We determine the career choice with the highest expected utility\n",
    "            career_chosen = np.argmax(first_expected_utility) + 1\n",
    "\n",
    "            #Step 1.4: We calculate the realized utility\n",
    "            realized_utility = par.v[career_chosen - 1] + error_personal[i][career_chosen - 1]\n",
    "\n",
    "            #Step 1.5: We store the results\n",
    "            results.append({\n",
    "                'Graduate': i,\n",
    "                'Career track': career_chosen,\n",
    "                'Share of choices': 1 / par.K,\n",
    "                'Expected utility': first_expected_utility[career_chosen - 1],\n",
    "                'Realized utility': realized_utility\n",
    "            })\n",
    "    \n",
    "    return pd.DataFrame(results)"
   ]
  },
  {
   "cell_type": "code",
   "execution_count": 8,
   "metadata": {},
   "outputs": [],
   "source": [
    "#Step 2: We perform the simulation\n",
    "results_df = simulate_career_choices()"
   ]
  },
  {
   "cell_type": "code",
   "execution_count": 9,
   "metadata": {},
   "outputs": [],
   "source": [
    "#Step 3: Aggregate results\n",
    "#We aggregate the results to get the average statistics per graduate and career track.\n",
    "results_aggregated = results_df.groupby(['Graduate', 'Career track']).agg(\n",
    "    Share_of_choices=pd.NamedAgg(column='Share of choices', aggfunc='sum'),\n",
    "    Expected_utility=pd.NamedAgg(column='Expected utility', aggfunc='mean'),\n",
    "    Realized_utility=pd.NamedAgg(column='Realized utility', aggfunc='mean')\n",
    ").reset_index()\n",
    "\n",
    "#We sort the dataframe for better readability\n",
    "results_aggregated = results_aggregated.sort_values(by=['Graduate', 'Career track'])\n"
   ]
  },
  {
   "cell_type": "code",
   "execution_count": 10,
   "metadata": {},
   "outputs": [
    {
     "name": "stdout",
     "output_type": "stream",
     "text": [
      "    Graduate  Career track  Share_of_choices  Expected_utility  \\\n",
      "0          1             1            0.1526          3.441558   \n",
      "1          1             2            0.3002          3.833983   \n",
      "2          1             3            0.5472          4.105014   \n",
      "3          2             1            0.0926          2.911179   \n",
      "4          2             2            0.2677          3.276323   \n",
      "5          2             3            0.6397          3.651353   \n",
      "6          3             1            0.0625          2.729710   \n",
      "7          3             2            0.2504          3.120756   \n",
      "8          3             3            0.6871          3.455232   \n",
      "9          4             1            0.0476          2.591148   \n",
      "10         4             2            0.2200          2.958790   \n",
      "11         4             3            0.7324          3.335924   \n",
      "12         5             1            0.0369          2.511058   \n",
      "13         5             2            0.2047          2.893272   \n",
      "14         5             3            0.7584          3.252665   \n",
      "15         6             1            0.0254          2.491346   \n",
      "16         6             2            0.1849          2.850665   \n",
      "17         6             3            0.7897          3.228092   \n",
      "18         7             1            0.0206          2.478963   \n",
      "19         7             2            0.1703          2.817512   \n",
      "20         7             3            0.8091          3.178494   \n",
      "21         8             1            0.0126          2.470811   \n",
      "22         8             2            0.1579          2.779566   \n",
      "23         8             3            0.8295          3.167496   \n",
      "24         9             1            0.0114          2.431559   \n",
      "25         9             2            0.1400          2.733723   \n",
      "26         9             3            0.8486          3.129801   \n",
      "27        10             1            0.0068          2.328820   \n",
      "28        10             2            0.1294          2.734251   \n",
      "29        10             3            0.8638          3.114346   \n",
      "\n",
      "    Realized_utility  \n",
      "0           0.940285  \n",
      "1           1.942411  \n",
      "2           2.982538  \n",
      "3           1.019571  \n",
      "4           2.032985  \n",
      "5           3.014369  \n",
      "6           0.959034  \n",
      "7           2.002093  \n",
      "8           2.993372  \n",
      "9           0.952251  \n",
      "10          2.048006  \n",
      "11          2.964658  \n",
      "12          1.052594  \n",
      "13          2.009377  \n",
      "14          3.009555  \n",
      "15          1.085685  \n",
      "16          2.079660  \n",
      "17          2.999844  \n",
      "18          1.262062  \n",
      "19          1.989161  \n",
      "20          2.985556  \n",
      "21          1.327477  \n",
      "22          1.999136  \n",
      "23          3.010609  \n",
      "24          1.119899  \n",
      "25          2.000029  \n",
      "26          3.020916  \n",
      "27          1.132688  \n",
      "28          1.949676  \n",
      "29          2.982580  \n"
     ]
    }
   ],
   "source": [
    "#Step 4: We display the aggregated results\n",
    "print(results_aggregated)"
   ]
  },
  {
   "cell_type": "markdown",
   "metadata": {},
   "source": [
    "In the table above, each row represents a specific combination of graduate and career track, and each column provides specific information about that combination.\n",
    "\n",
    "*Graduate* is the graduate number and ranges from 1 to par.N (10), *career track* is the career track number ranging from 1 to par.J (3), *share of choices* is the proportion of times this career track was chosen by this graduate across all simulations, *expected utility* is the average expected utility perceived by this graduate for this career track across all simulations, *realized utility* is the average realized utility experienced by this graduate for this career track across all simulations.\n",
    "\n",
    "The first three rows can therefore be read as: Graduate 1 chose career track 1 about 15.26% of the time, career track 2 about 30.02% of the time, and career track 3 about 54.72% of the time. Therefore, career track 3 was the most popular choice among graduate 1. The expected utility for this graduate choosing career track 3 is approximately 3.44, which is higher than the expected utilities for career track 1 (0.15) and career track 2 (3.33). This suggests that graduate 1 perceives career track 3 to be significantly more beneficial compared to the other tracks. This also aligns with the realized utility, where graduate 1 has the highest realized utility for career track 3."
   ]
  },
  {
   "cell_type": "code",
   "execution_count": 11,
   "metadata": {},
   "outputs": [],
   "source": [
    "#Step 5: Extract Data for Plotting\n",
    "#We extract the data needed for plotting from the aggregated results.\n",
    "career_1_share = results_aggregated[results_aggregated['Career track'] == 1]['Share_of_choices'].values\n",
    "career_2_share = results_aggregated[results_aggregated['Career track'] == 2]['Share_of_choices'].values\n",
    "career_3_share = results_aggregated[results_aggregated['Career track'] == 3]['Share_of_choices'].values\n",
    "\n",
    "career_1_expected = results_aggregated[results_aggregated['Career track'] == 1]['Expected_utility'].values\n",
    "career_2_expected = results_aggregated[results_aggregated['Career track'] == 2]['Expected_utility'].values\n",
    "career_3_expected = results_aggregated[results_aggregated['Career track'] == 3]['Expected_utility'].values\n",
    "\n",
    "career_1_realized = results_aggregated[results_aggregated['Career track'] == 1]['Realized_utility'].values\n",
    "career_2_realized = results_aggregated[results_aggregated['Career track'] == 2]['Realized_utility'].values\n",
    "career_3_realized = results_aggregated[results_aggregated['Career track'] == 3]['Realized_utility'].values\n"
   ]
  },
  {
   "cell_type": "code",
   "execution_count": 12,
   "metadata": {},
   "outputs": [
    {
     "data": {
      "image/png": "[encoded data removed]",
      "text/plain": [
       "<Figure size 1200x600 with 1 Axes>"
      ]
     },
     "metadata": {},
     "output_type": "display_data"
    },
    {
     "data": {
      "image/png": "[encoded data removed]",
      "text/plain": [
       "<Figure size 1200x600 with 1 Axes>"
      ]
     },
     "metadata": {},
     "output_type": "display_data"
    },
    {
     "data": {
      "image/png": "[encoded data removed]",
      "text/plain": [
       "<Figure size 1200x600 with 1 Axes>"
      ]
     },
     "metadata": {},
     "output_type": "display_data"
    }
   ],
   "source": [
    "#Step 6: Plot the Results\n",
    "#Step 6.1: Plot the share of choices for each graduate\n",
    "fig, ax = plt.subplots(figsize=(12, 6))\n",
    "width = 0.25\n",
    "\n",
    "x = np.arange(par.N)\n",
    "ax.bar(x - width, career_1_share, width, label='Career 1', color='red')\n",
    "ax.bar(x, career_2_share, width, label='Career 2', color='green')\n",
    "ax.bar(x + width, career_3_share, width, label='Career 3', color='blue')\n",
    "\n",
    "ax.set_xlabel('Graduates')\n",
    "ax.set_ylabel('Share')\n",
    "ax.set_title('Share of graduates choosing the three careers')\n",
    "ax.set_xticks(x)\n",
    "ax.set_xticklabels(np.arange(1, par.N + 1))\n",
    "ax.legend()\n",
    "\n",
    "plt.show()\n",
    "\n",
    "# Step 6.2: Plot the average subjective expected utility for each graduate\n",
    "fig, ax = plt.subplots(figsize=(12, 6))\n",
    "width = 0.25\n",
    "\n",
    "ax.bar(x - width, career_1_expected, width, label='Career 1', color='red')\n",
    "ax.bar(x, career_2_expected, width, label='Career 2', color='green')\n",
    "ax.bar(x + width, career_3_expected, width, label='Career 3', color='blue')\n",
    "\n",
    "ax.set_xlabel('Graduates')\n",
    "ax.set_ylabel('Utility')\n",
    "ax.set_title('Average subjective expected utility')\n",
    "ax.set_xticks(x)\n",
    "ax.set_xticklabels(np.arange(1, par.N + 1))\n",
    "ax.legend()\n",
    "\n",
    "plt.show()\n",
    "\n",
    "# Step 6.3: Plot the average ex post realized utility for each graduate\n",
    "fig, ax = plt.subplots(figsize=(12, 6))\n",
    "width = 0.25\n",
    "\n",
    "ax.bar(x - width, career_1_realized, width, label='Career 1', color='red')\n",
    "ax.bar(x, career_2_realized, width, label='Career 2', color='green')\n",
    "ax.bar(x + width, career_3_realized, width, label='Career 3', color='blue')\n",
    "\n",
    "ax.set_xlabel('Graduates')\n",
    "ax.set_ylabel('Utility')\n",
    "ax.set_title('Average realized utility')\n",
    "ax.set_xticks(x)\n",
    "ax.set_xticklabels(np.arange(1, par.N + 1))\n",
    "ax.legend()\n",
    "\n",
    "plt.show()"
   ]
  },
  {
   "cell_type": "markdown",
   "metadata": {},
   "source": [
    "The plots indicate that graduates tend to have higher expected utilities for career tracks popular among their friends. Social influence leads graduates to anticipate greater benefits from well seen tracks. For example, in the \"Share of graduates choosing the three careers\" plot, career 3 is the most popular, especially among graduates with more friends, such as graduate 10. This results in higher expected utilities for career 3.\n",
    "\n",
    "Graduates with more friends receive more feedback, which can lead to higher expected utilities but also more variability in realized utility due to diverse experiences and opinions. The \"Average realized utility\" plot shows that graduates with more friends have more varied expected and realized utilities compared to those with fewer friends.\n",
    "\n",
    "Overall, graduates' choices and expected utilities are heavily influenced by their friends' experiences, but there can be notable differences between expected and realized utilities, reflecting the complexity of career decision-making."
   ]
  },
  {
   "cell_type": "markdown",
   "metadata": {},
   "source": [
    "After a year of working in their career, the graduates learn $u^k_{ij}$ for their chosen job $j_i^{k*}$ perfectly. <br>\n",
    "The can switch to one of the two remaining careers, for which they have the same prior as before, but it will now include a switching cost of $c$ which is known.\n",
    "Their new priors can be written as: \n",
    "$$\n",
    "\\tilde{u}^{k,2}_{ij}\\left( F_{i}\\right) = \\begin{cases}\n",
    "            \\tilde{u}^k_{ij}\\left( F_{i}\\right)-c & \\text{if } j \\neq j_i^{k*} \\\\\n",
    "            u_{ij=j_i^{k*}} & \\text{if } j = j_i^{k*}\n",
    "        \\end{cases}\n",
    "$$"
   ]
  },
  {
   "cell_type": "markdown",
   "metadata": {},
   "source": [
    "We will set $c=1$."
   ]
  },
  {
   "cell_type": "markdown",
   "metadata": {},
   "source": [
    "Their realized utility will be: <br>\n",
    "$$\n",
    "u^{k,2}_{ij}= \\begin{cases}\n",
    "            u_{ij}^k -c & \\text{if } j \\neq j_i^{k*} \\\\\n",
    "            u_{ij=j_i^{k*}} & \\text{if } j = j_i^{k*}\n",
    "        \\end{cases}\n",
    "$$"
   ]
  },
  {
   "cell_type": "markdown",
   "metadata": {},
   "source": [
    "**Question 3:** Following the same approach as in question 2, find the new optimal career choice for each $i$, $k$. Then for each $i$, calculate the average subjective expected utility from their new optimal career choice, and the ex post realized utility of that career. Also, for each $i$, calculate the share of graduates that chooses to switch careers, conditional on which career they chose in the first year. <br>"
   ]
  },
  {
   "cell_type": "markdown",
   "metadata": {},
   "source": [
    "In this question, we analyze the career choices of graduates over two years. Initially, each graduate chooses a career based on the expected utility. After working in their chosen career for a year, they learn the true utility of that job. They can then decide whether to switch to another career for the second year, considering a switching cost. Our goal is to determine the new optimal career choices, calculate the expected and realized utilities, and find out how many graduates decide to switch careers.\n",
    "\n",
    "We follow the structure:\n",
    "1. Simulate the initial career choices.\n",
    "2. Simulate the career choices with switching decisions.\n",
    "3. Perform the simulation.\n",
    "4. Calculate the new optimal career choice for each graduate.\n",
    "5. Calculate the average subjective expected utility and ex post realized utility.\n",
    "6. Calculate the share of graduates that switch careers.\n",
    "7. Display the results.\n",
    "8. Visualize the results."
   ]
  },
  {
   "cell_type": "code",
   "execution_count": 57,
   "metadata": {},
   "outputs": [
    {
     "ename": "SyntaxError",
     "evalue": "invalid syntax (1699715882.py, line 116)",
     "output_type": "error",
     "traceback": [
      "\u001b[0;36m  Cell \u001b[0;32mIn[57], line 116\u001b[0;36m\u001b[0m\n\u001b[0;31m    plt.figure(figsize=*(12, 16))\u001b[0m\n\u001b[0m                       ^\u001b[0m\n\u001b[0;31mSyntaxError\u001b[0m\u001b[0;31m:\u001b[0m invalid syntax\n"
     ]
    }
   ],
   "source": [
    "import numpy as np\n",
    "import pandas as pd\n",
    "import matplotlib.pyplot as plt\n",
    "from types import SimpleNamespace\n",
    "\n",
    "# Parameters\n",
    "par = SimpleNamespace()\n",
    "par.J = 3\n",
    "par.N = 10\n",
    "par.K = 10000\n",
    "par.sigma = 2\n",
    "par.v = np.array([1, 2, 3])\n",
    "par.c = 1\n",
    "\n",
    "# Step 1: Simulation function for initial career choices.\n",
    "# We follow the same procedure as in question 2.\n",
    "def simulate_career_choices(seed=42):\n",
    "    np.random.seed(seed)\n",
    "    results = []\n",
    "    \n",
    "    for k in range(par.K):\n",
    "        error_friends = {i: np.random.normal(0, par.sigma, (i, par.J)) for i in range(1, par.N + 1)}\n",
    "        error_personal = {i: np.random.normal(0, par.sigma, par.J) for i in range(1, par.N + 1)}\n",
    "        \n",
    "        for i in range(1, par.N + 1):\n",
    "            prior_expected_utilities = par.v + np.mean(error_friends[i], axis=0)\n",
    "            chosen_career = np.argmax(prior_expected_utilities) + 1\n",
    "            realized_utility = par.v[chosen_career - 1] + error_personal[i][chosen_career - 1]\n",
    "            results.append({\n",
    "                'Graduate': i,\n",
    "                'Chosen career': chosen_career,\n",
    "                'Prior expected utility': prior_expected_utilities[chosen_career - 1],\n",
    "                'Realized utility': realized_utility\n",
    "            })\n",
    "    \n",
    "    return pd.DataFrame(results)\n",
    "\n",
    "# Step 2: Simulation function with switching decision.\n",
    "def simulate_career_choices_with_switching(seed=42):\n",
    "    np.random.seed(seed)\n",
    "    # We simulate initial career choices.\n",
    "    initial_results = simulate_career_choices(seed)\n",
    "    results_switching = []\n",
    "\n",
    "    # We loop over each simulation run.\n",
    "    for k in range(par.K):\n",
    "        # We generate random error terms for friends' opinions for each graduate.\n",
    "        error_friends = {i: np.random.normal(0, par.sigma, (i, par.J)) for i in range(1, par.N + 1)}\n",
    "        # We generate random error terms for personal experiences for each graduate.\n",
    "        error_personal = {i: np.random.normal(0, par.sigma, par.J) for i in range(1, par.N + 1)}\n",
    "        \n",
    "        # We loop over each graduate\n",
    "        for i in range(1, par.N + 1):\n",
    "            # We calculate prior expected utilities for each career using friends' opinions.\n",
    "            prior_expected_utilities = par.v + np.mean(error_friends[i], axis=0)\n",
    "            \n",
    "            # We determine the career choice with the highest expected utility.\n",
    "            chosen_career = np.argmax(prior_expected_utilities) + 1\n",
    "            \n",
    "            # We calculate the realized utility for the chosen career.\n",
    "            realized_utility = par.v[chosen_career - 1] + error_personal[i][chosen_career - 1]\n",
    "            \n",
    "            # After we have calculated the realized utility, we update the expected utilities considering the switching cost.\n",
    "            new_prior_expected_utilities = prior_expected_utilities - par.c\n",
    "            # We update the expected utility for the initially chosen career with the realized utility.\n",
    "            new_prior_expected_utilities[chosen_career - 1] = realized_utility\n",
    "            \n",
    "            # We determine the new career choice with the highest updated expected utility.\n",
    "            new_chosen_career = np.argmax(new_prior_expected_utilities) + 1\n",
    "            # We calculate the realized utility for the new chosen career.\n",
    "            new_realized_utility = par.v[new_chosen_career - 1] + error_personal[i][new_chosen_career - 1]\n",
    "            \n",
    "            # We store the results in a list.\n",
    "            results_switching.append({\n",
    "                'Graduate': i,\n",
    "                'Initial chosen career': chosen_career,\n",
    "                'Initial realized utility': realized_utility,\n",
    "                'New chosen career': new_chosen_career,\n",
    "                'New realized utility': new_realized_utility,\n",
    "                'Prior expected utility': prior_expected_utilities[chosen_career - 1],\n",
    "                'Switched': chosen_career != new_chosen_career\n",
    "            })\n",
    "    \n",
    "    return pd.DataFrame(results_switching)\n",
    "\n",
    "# Step 3: Perform the simulation with switching\n",
    "results_with_switching_df = simulate_career_choices_with_switching()\n",
    "\n",
    "# Step 4: Calculate the new optimal career choice for each graduate\n",
    "career_transitions = results_with_switching_df.groupby('Graduate').first()[['Initial chosen career', 'New chosen career']]\n",
    "\n",
    "# Step 5: Calculate the average subjective expected utility and ex post realized utility\n",
    "average_subjective_expected_utility = results_with_switching_df.groupby('Graduate')['Prior expected utility'].mean()\n",
    "average_ex_post_realized_utility = results_with_switching_df.groupby('Graduate')['New realized utility'].mean()\n",
    "\n",
    "# Step 6: Calculate the share of graduates that switch careers, conditional on their initial career choice for each graduate (i)\n",
    "switching_stats_by_individual = results_with_switching_df.groupby(['Graduate', 'Initial chosen career'])['Switched'].mean().unstack(fill_value=0)\n",
    "\n",
    "# Step 7: Display the results.\n",
    "print(\"Career transitions:\")\n",
    "for i, row in career_transitions.iterrows():\n",
    "    print(f\"Graduate {i}: Initial career {row['Initial chosen career']} -> New career {row['New chosen career']}\")\n",
    "\n",
    "print(\"\\nAverage subjective expected utility for each graduate:\")\n",
    "for i, utility in average_subjective_expected_utility.items():\n",
    "    print(f\"Graduate {i}: {utility}\")\n",
    "\n",
    "print(\"\\nEx post realized utility for each graduate:\")\n",
    "for i, utility in average_ex_post_realized_utility.items():\n",
    "    print(f\"Graduate {i}: {utility}\")\n",
    "\n",
    "print(f\"\\nShare of graduates that switch careers, conditional on initial career choice for each graduate:\")\n",
    "print(switching_stats_by_individual)\n",
    "\n",
    "# Step 8: Visualize the results.\n",
    "plt.figure(figsize=*(12, 16))\n",
    "\n",
    "# We plot the share of graduates that switch careers conditional on their initial career choice for each graduate.\n",
    "plt.subplot(3, 1, 1)\n",
    "for career in range(1, par.J + 1):\n",
    "    plt.plot(switching_stats_by_individual.index, switching_stats_by_individual[career], label=f'Initial Career {career}')\n",
    "plt.title('Share of graduates switching careers in the second year')\n",
    "plt.xlabel('Graduate')\n",
    "plt.ylabel('Share of graduates switching')\n",
    "plt.legend()\n",
    "\n",
    "# Average subjective expected utility after switching\n",
    "plt.subplot(3, 1, 2)\n",
    "plt.plot(average_subjective_expected_utility.index, average_subjective_expected_utility, color='blue')\n",
    "plt.title('Average subjective expected utility after switching')\n",
    "plt.xlabel('Graduate')\n",
    "plt.ylabel('Utility')\n",
    "plt.xticks(np.arange(1, par.N + 1))\n",
    "plt.legend()\n",
    "\n",
    "# Average ex post realized utility after switching\n",
    "plt.subplot(3, 1, 3)\n",
    "plt.plot(average_ex_post_realized_utility.index, average_ex_post_realized_utility, color='blue')\n",
    "plt.title('Average ex post realized utility after switching')\n",
    "plt.xlabel('Graduate')\n",
    "plt.ylabel('Utility')\n",
    "plt.xticks(np.arange(1, par.N + 1))\n",
    "plt.legend()\n",
    "\n",
    "plt.tight_layout()\n",
    "plt.show()\n"
   ]
  },
  {
   "cell_type": "markdown",
   "metadata": {},
   "source": [
    "In this question, we analyze the career choices of graduates over two years. Initially, each graduate chooses a career based on the expected utility. After working in their chosen career for a year, they learn the true utility of that job. They can then decide whether to switch to another career for the second year, considering a switching cost. Our goal is to determine the new optimal career choices, calculate the expected and realized utilities, and find out how many graduates decide to switch careers.\n",
    "\n",
    "We follow the structure:\n",
    "1. Simulate the initial career choices.\n",
    "2. Simulate the career choices with switching decisions.\n",
    "3. Perform the simulation.\n",
    "4. Calculate the new optimal career choice for each graduate.\n",
    "5. Calculate the average subjective expected utility and ex post realized utility.\n",
    "6. Calculate the share of graduates that switch careers.\n",
    "7. Display the results.\n",
    "8. Visualize the results."
   ]
  },
  {
   "cell_type": "code",
   "execution_count": 58,
   "metadata": {},
   "outputs": [
    {
     "name": "stdout",
     "output_type": "stream",
     "text": [
      "Career transitions:\n",
      "Graduate 1: Initial career 3 -> New career 2\n",
      "Graduate 2: Initial career 1 -> New career 1\n",
      "Graduate 3: Initial career 3 -> New career 3\n",
      "Graduate 4: Initial career 3 -> New career 3\n",
      "Graduate 5: Initial career 3 -> New career 3\n",
      "Graduate 6: Initial career 3 -> New career 3\n",
      "Graduate 7: Initial career 3 -> New career 3\n",
      "Graduate 8: Initial career 3 -> New career 3\n",
      "Graduate 9: Initial career 3 -> New career 3\n",
      "Graduate 10: Initial career 2 -> New career 2\n",
      "\n",
      "Average subjective expected utility for each graduate:\n",
      "Graduate 1: 3.90312686798941\n",
      "Graduate 2: 3.475166510831125\n",
      "Graduate 3: 3.3291862501829512\n",
      "Graduate 4: 3.22950364737393\n",
      "Graduate 5: 3.155783076805741\n",
      "Graduate 6: 3.136429912047658\n",
      "Graduate 7: 3.105902420959665\n",
      "Graduate 8: 3.085243601150083\n",
      "Graduate 9: 3.072996637004626\n",
      "Graduate 10: 3.0608822939696902\n",
      "\n",
      "Ex post realized utility for each graduate:\n",
      "Graduate 1: 2.948460264931331\n",
      "Graduate 2: 3.062785347818466\n",
      "Graduate 3: 3.1289328028983356\n",
      "Graduate 4: 3.1672708486977714\n",
      "Graduate 5: 3.1777546328994855\n",
      "Graduate 6: 3.225732956050612\n",
      "Graduate 7: 3.2512826534082504\n",
      "Graduate 8: 3.2909706147373994\n",
      "Graduate 9: 3.231713680884016\n",
      "Graduate 10: 3.2571379268112635\n",
      "\n",
      "Share of graduates that switch careers, conditional on initial career choice for each graduate:\n",
      "Initial chosen career         1         2         3\n",
      "Graduate                                           \n",
      "1                      0.503674  0.356625  0.207716\n",
      "2                      0.514632  0.355258  0.178468\n",
      "3                      0.483212  0.364230  0.166036\n",
      "4                      0.502083  0.339413  0.170930\n",
      "5                      0.474926  0.357761  0.167749\n",
      "6                      0.515982  0.365841  0.161339\n",
      "7                      0.522876  0.348530  0.160880\n",
      "8                      0.558621  0.346054  0.160188\n",
      "9                      0.468750  0.351826  0.161203\n",
      "10                     0.530303  0.388199  0.172565\n"
     ]
    },
    {
     "data": {
      "image/png": "[encoded data removed]",
      "text/plain": [
       "<Figure size 1200x800 with 3 Axes>"
      ]
     },
     "metadata": {},
     "output_type": "display_data"
    }
   ],
   "source": [
    "import numpy as np\n",
    "import pandas as pd\n",
    "import matplotlib.pyplot as plt\n",
    "from types import SimpleNamespace\n",
    "\n",
    "# Parameters\n",
    "par = SimpleNamespace()\n",
    "par.J = 3\n",
    "par.N = 10\n",
    "par.K = 10000\n",
    "par.sigma = 2\n",
    "par.v = np.array([1, 2, 3])\n",
    "par.c = 1\n",
    "\n",
    "# Step 1: Simulation function for initial career choices.\n",
    "# We follow the same procedure as in question 2.\n",
    "def simulate_career_choices(seed=42):\n",
    "    np.random.seed(seed)\n",
    "    results = []\n",
    "    \n",
    "    for k in range(par.K):\n",
    "        error_friends = {i: np.random.normal(0, par.sigma, (i, par.J)) for i in range(1, par.N + 1)}\n",
    "        error_personal = {i: np.random.normal(0, par.sigma, par.J) for i in range(1, par.N + 1)}\n",
    "        \n",
    "        for i in range(1, par.N + 1):\n",
    "            prior_expected_utilities = par.v + np.mean(error_friends[i], axis=0)\n",
    "            chosen_career = np.argmax(prior_expected_utilities) + 1\n",
    "            realized_utility = par.v[chosen_career - 1] + error_personal[i][chosen_career - 1]\n",
    "            results.append({\n",
    "                'Graduate': i,\n",
    "                'Chosen career': chosen_career,\n",
    "                'Prior expected utility': prior_expected_utilities[chosen_career - 1],\n",
    "                'Realized utility': realized_utility\n",
    "            })\n",
    "    \n",
    "    return pd.DataFrame(results)\n",
    "\n",
    "# Step 2: Simulation function with switching decision.\n",
    "def simulate_career_choices_with_switching(seed=42):\n",
    "    np.random.seed(seed)\n",
    "    # We simulate initial career choices.\n",
    "    initial_results = simulate_career_choices(seed)\n",
    "    results_switching = []\n",
    "\n",
    "    # We loop over each simulation run.\n",
    "    for k in range(par.K):\n",
    "        # We generate random error terms for friends' opinions for each graduate.\n",
    "        error_friends = {i: np.random.normal(0, par.sigma, (i, par.J)) for i in range(1, par.N + 1)}\n",
    "        # We generate random error terms for personal experiences for each graduate.\n",
    "        error_personal = {i: np.random.normal(0, par.sigma, par.J) for i in range(1, par.N + 1)}\n",
    "        \n",
    "        # We loop over each graduate\n",
    "        for i in range(1, par.N + 1):\n",
    "            # We calculate prior expected utilities for each career using friends' opinions.\n",
    "            prior_expected_utilities = par.v + np.mean(error_friends[i], axis=0)\n",
    "            \n",
    "            # We determine the career choice with the highest expected utility.\n",
    "            chosen_career = np.argmax(prior_expected_utilities) + 1\n",
    "            \n",
    "            # We calculate the realized utility for the chosen career.\n",
    "            realized_utility = par.v[chosen_career - 1] + error_personal[i][chosen_career - 1]\n",
    "            \n",
    "            # After we have calculated the realized utility, we update the expected utilities considering the switching cost.\n",
    "            new_prior_expected_utilities = prior_expected_utilities - par.c\n",
    "            # We update the expected utility for the initially chosen career with the realized utility.\n",
    "            new_prior_expected_utilities[chosen_career - 1] = realized_utility\n",
    "            \n",
    "            # We determine the new career choice with the highest updated expected utility.\n",
    "            new_chosen_career = np.argmax(new_prior_expected_utilities) + 1\n",
    "            # We calculate the realized utility for the new chosen career.\n",
    "            new_realized_utility = par.v[new_chosen_career - 1] + error_personal[i][new_chosen_career - 1]\n",
    "            \n",
    "            # We store the results in a list.\n",
    "            results_switching.append({\n",
    "                'Graduate': i,\n",
    "                'Initial chosen career': chosen_career,\n",
    "                'Initial realized utility': realized_utility,\n",
    "                'New chosen career': new_chosen_career,\n",
    "                'New realized utility': new_realized_utility,\n",
    "                'Prior expected utility': prior_expected_utilities[chosen_career - 1],\n",
    "                'Switched': chosen_career != new_chosen_career\n",
    "            })\n",
    "    \n",
    "    return pd.DataFrame(results_switching)\n",
    "\n",
    "# Step 3: Perform the simulation with switching\n",
    "results_with_switching_df = simulate_career_choices_with_switching()\n",
    "\n",
    "# Step 4: Calculate the new optimal career choice for each graduate\n",
    "career_transitions = results_with_switching_df.groupby('Graduate').first()[['Initial chosen career', 'New chosen career']]\n",
    "\n",
    "# Step 5: Calculate the average subjective expected utility and ex post realized utility\n",
    "average_subjective_expected_utility = results_with_switching_df.groupby('Graduate')['Prior expected utility'].mean()\n",
    "average_ex_post_realized_utility = results_with_switching_df.groupby('Graduate')['New realized utility'].mean()\n",
    "\n",
    "# Step 6: Calculate the share of graduates that switch careers, conditional on their initial career choice for each graduate (i)\n",
    "switching_stats_by_initial = results_with_switching_df.groupby(['Graduate', 'Initial chosen career'])['Switched'].mean().unstack(fill_value=0)\n",
    "\n",
    "# Step 7: Display the results.\n",
    "print(\"Career transitions:\")\n",
    "for i, row in career_transitions.iterrows():\n",
    "    print(f\"Graduate {i}: Initial career {row['Initial chosen career']} -> New career {row['New chosen career']}\")\n",
    "\n",
    "print(\"\\nAverage subjective expected utility for each graduate:\")\n",
    "for i, utility in average_subjective_expected_utility.items():\n",
    "    print(f\"Graduate {i}: {utility}\")\n",
    "\n",
    "print(\"\\nEx post realized utility for each graduate:\")\n",
    "for i, utility in average_ex_post_realized_utility.items():\n",
    "    print(f\"Graduate {i}: {utility}\")\n",
    "\n",
    "print(f\"\\nShare of graduates that switch careers, conditional on initial career choice for each graduate:\")\n",
    "print(switching_stats_by_initial)\n",
    "\n",
    "# Step 8: Visualize the results.\n",
    "plt.figure(figsize=(12, 8))\n",
    "\n",
    "# We plot the share of graduates that switch careers conditional on their initial career choice.\n",
    "plt.subplot(3, 1, 1)\n",
    "for career in range(1, par.J + 1):\n",
    "    plt.plot(switching_stats_by_initial.index, switching_stats_by_initial[career], label=f'Initial Career {career}')\n",
    "plt.title('Share of graduates switching careers in the second year')\n",
    "plt.xlabel('Graduate')\n",
    "plt.ylabel('Share of graduates switching')\n",
    "plt.legend()\n",
    "\n",
    "# Average subjective expected utility after switching\n",
    "plt.subplot(3, 1, 2)\n",
    "plt.plot(average_subjective_expected_utility.index, average_subjective_expected_utility, label='Average Subjective Expected Utility', color='blue')\n",
    "plt.title('Average subjective expected utility after switching')\n",
    "plt.xlabel('Graduate')\n",
    "plt.ylabel('Utility')\n",
    "plt.xticks(np.arange(1, par.N + 1))\n",
    "plt.legend()\n",
    "\n",
    "# Average ex post realized utility after switching\n",
    "plt.subplot(3, 1, 3)\n",
    "plt.plot(average_ex_post_realized_utility.index, average_ex_post_realized_utility, label='Average Ex Post Realized Utility', color='blue')\n",
    "plt.title('Average ex post realized utility after switching')\n",
    "plt.xlabel('Graduate')\n",
    "plt.ylabel('Utility')\n",
    "plt.xticks(np.arange(1, par.N + 1))\n",
    "plt.legend()\n",
    "\n",
    "plt.tight_layout()\n",
    "plt.show()\n"
   ]
  },
  {
   "cell_type": "code",
   "execution_count": 36,
   "metadata": {},
   "outputs": [],
   "source": [
    "#Step 1: Simulation function for initial career choices.\n",
    "#We follow the same procedure as in question 2.\n",
    "def simulate_career_choices(seed=42):\n",
    "    np.random.seed(seed)\n",
    "    results = []\n",
    "    \n",
    "    for k in range(par.K):\n",
    "        error_friends = {i: np.random.normal(0, par.sigma, (i, par.J)) for i in range(1, par.N + 1)}\n",
    "        error_personal = {i: np.random.normal(0, par.sigma, par.J) for i in range(1, par.N + 1)}\n",
    "        \n",
    "        for i in range(1, par.N + 1):\n",
    "            prior_expected_utilities = par.v + np.mean(error_friends[i], axis=0)\n",
    "            chosen_career = np.argmax(prior_expected_utilities) + 1\n",
    "            realized_utility = par.v[chosen_career - 1] + error_personal[i][chosen_career - 1]\n",
    "            results.append({\n",
    "                'Graduate': i,\n",
    "                'Chosen Career': chosen_career,\n",
    "                'Prior Expected Utility': prior_expected_utilities[chosen_career - 1],\n",
    "                'Realized Utility': realized_utility\n",
    "            })\n",
    "    \n",
    "    return pd.DataFrame(results)"
   ]
  },
  {
   "cell_type": "code",
   "execution_count": 37,
   "metadata": {},
   "outputs": [],
   "source": [
    "#Step 2: Simulation function with switching decision.\n",
    "def simulate_career_choices_with_switching(seed=42):\n",
    "    np.random.seed(seed)\n",
    "    #We simulate initial career choices.\n",
    "    initial_results = simulate_career_choices(seed)\n",
    "    results_switching = []\n",
    "\n",
    "    #We loop over each simulation run.\n",
    "    for k in range(par.K):\n",
    "        #We generate random error terms for friends' opinions for each graduate.\n",
    "        error_friends = {i: np.random.normal(0, par.sigma, (i, par.J)) for i in range(1, par.N + 1)}\n",
    "        #We generate random error terms for personal experiences for each graduate.\n",
    "        error_personal = {i: np.random.normal(0, par.sigma, par.J) for i in range(1, par.N + 1)}\n",
    "        \n",
    "        #We loop over each graduate\n",
    "        for i in range(1, par.N + 1):\n",
    "            #We alculate prior expected utilities for each career using friends' opinions.\n",
    "            prior_expected_utilities = par.v + np.mean(error_friends[i], axis=0)\n",
    "            \n",
    "            #We determine the career choice with the highest expected utility.\n",
    "            chosen_career = np.argmax(prior_expected_utilities) + 1\n",
    "            \n",
    "            #We calculate the realized utility for the chosen career.\n",
    "            realized_utility = par.v[chosen_career - 1] + error_personal[i][chosen_career - 1]\n",
    "            \n",
    "            #After we have calculated the realized utility, we update the expected utilities considering the switching cost.\n",
    "            new_prior_expected_utilities = prior_expected_utilities - par.c\n",
    "            #We update the expected utility for the initially chosen career with the realized utility.\n",
    "            new_prior_expected_utilities[chosen_career - 1] = realized_utility\n",
    "            \n",
    "            #We determine the new career choice with the highest updated expected utility.\n",
    "            new_chosen_career = np.argmax(new_prior_expected_utilities) + 1\n",
    "            #We calculate the realized utility for the new chosen career.\n",
    "            new_realized_utility = par.v[new_chosen_career - 1] + error_personal[i][new_chosen_career - 1]\n",
    "            \n",
    "            #We store the results in a list.\n",
    "            results_switching.append({\n",
    "                'Graduate': i,\n",
    "                'Initial chosen career': chosen_career,\n",
    "                'Initial realized utility': realized_utility,\n",
    "                'New chosen career': new_chosen_career,\n",
    "                'New realized utility': new_realized_utility,\n",
    "                'Prior expected utility': prior_expected_utilities[chosen_career - 1],\n",
    "                'Switched': chosen_career != new_chosen_career\n",
    "            })\n",
    "    \n",
    "    return pd.DataFrame(results_switching)"
   ]
  },
  {
   "cell_type": "code",
   "execution_count": 41,
   "metadata": {},
   "outputs": [],
   "source": [
    "#Step 3: Perform the simulation with switching\n",
    "results_with_switching_df = simulate_career_choices_with_switching()\n",
    "\n",
    "#Step 4: Calculate the new optimal career choice for each graduate\n",
    "career_transitions = results_with_switching_df.groupby('Graduate')['New chosen career'].value_counts(normalize=True).unstack(fill_value=0)\n",
    "\n",
    "#Step 5: Calculate the average subjective expected utility and ex post realized utility\n",
    "average_subjective_expected_utility = results_with_switching_df.groupby('Graduate')['Prior expected utility'].mean()\n",
    "average_ex_post_realized_utility = results_with_switching_df.groupby('Graduate')['New realized utility'].mean()\n",
    "\n",
    "# Step 6: Calculate the share of graduates that switch careers\n",
    "graduates_switched = results_with_switching_df[results_with_switching_df['Switched']].drop_duplicates(subset='Graduate')\n",
    "share_of_switches = len(graduates_switched) / par.N\n",
    "\n"
   ]
  },
  {
   "cell_type": "code",
   "execution_count": 43,
   "metadata": {},
   "outputs": [
    {
     "name": "stdout",
     "output_type": "stream",
     "text": [
      "Career transitions:\n"
     ]
    },
    {
     "ename": "KeyError",
     "evalue": "'New chosen career'",
     "output_type": "error",
     "traceback": [
      "\u001b[0;31m---------------------------------------------------------------------------\u001b[0m",
      "\u001b[0;31mKeyError\u001b[0m                                  Traceback (most recent call last)",
      "File \u001b[0;32m~/anaconda3/lib/python3.11/site-packages/pandas/core/indexes/base.py:3791\u001b[0m, in \u001b[0;36mIndex.get_loc\u001b[0;34m(self, key)\u001b[0m\n\u001b[1;32m   3790\u001b[0m \u001b[38;5;28;01mtry\u001b[39;00m:\n\u001b[0;32m-> 3791\u001b[0m     \u001b[38;5;28;01mreturn\u001b[39;00m \u001b[38;5;28mself\u001b[39m\u001b[38;5;241m.\u001b[39m_engine\u001b[38;5;241m.\u001b[39mget_loc(casted_key)\n\u001b[1;32m   3792\u001b[0m \u001b[38;5;28;01mexcept\u001b[39;00m \u001b[38;5;167;01mKeyError\u001b[39;00m \u001b[38;5;28;01mas\u001b[39;00m err:\n",
      "File \u001b[0;32mindex.pyx:152\u001b[0m, in \u001b[0;36mpandas._libs.index.IndexEngine.get_loc\u001b[0;34m()\u001b[0m\n",
      "File \u001b[0;32mindex.pyx:160\u001b[0m, in \u001b[0;36mpandas._libs.index.IndexEngine.get_loc\u001b[0;34m()\u001b[0m\n",
      "File \u001b[0;32mpandas/_libs/index_class_helper.pxi:70\u001b[0m, in \u001b[0;36mpandas._libs.index.Int64Engine._check_type\u001b[0;34m()\u001b[0m\n",
      "\u001b[0;31mKeyError\u001b[0m: 'New chosen career'",
      "\nThe above exception was the direct cause of the following exception:\n",
      "\u001b[0;31mKeyError\u001b[0m                                  Traceback (most recent call last)",
      "Cell \u001b[0;32mIn[43], line 4\u001b[0m\n\u001b[1;32m      2\u001b[0m \u001b[38;5;28mprint\u001b[39m(\u001b[38;5;124m\"\u001b[39m\u001b[38;5;124mCareer transitions:\u001b[39m\u001b[38;5;124m\"\u001b[39m)\n\u001b[1;32m      3\u001b[0m \u001b[38;5;28;01mfor\u001b[39;00m i, row \u001b[38;5;129;01min\u001b[39;00m career_transitions\u001b[38;5;241m.\u001b[39miterrows():\n\u001b[0;32m----> 4\u001b[0m     \u001b[38;5;28mprint\u001b[39m(\u001b[38;5;124mf\u001b[39m\u001b[38;5;124m\"\u001b[39m\u001b[38;5;124mGraduate \u001b[39m\u001b[38;5;132;01m{\u001b[39;00mi\u001b[38;5;132;01m}\u001b[39;00m\u001b[38;5;124m: New career \u001b[39m\u001b[38;5;132;01m{\u001b[39;00mrow[\u001b[38;5;124m'\u001b[39m\u001b[38;5;124mNew chosen career\u001b[39m\u001b[38;5;124m'\u001b[39m]\u001b[38;5;132;01m}\u001b[39;00m\u001b[38;5;124m\"\u001b[39m)\n\u001b[1;32m      6\u001b[0m \u001b[38;5;28mprint\u001b[39m(\u001b[38;5;124m\"\u001b[39m\u001b[38;5;130;01m\\n\u001b[39;00m\u001b[38;5;124mAverage subjective expected utility for each graduate:\u001b[39m\u001b[38;5;124m\"\u001b[39m)\n\u001b[1;32m      7\u001b[0m \u001b[38;5;28;01mfor\u001b[39;00m i, utility \u001b[38;5;129;01min\u001b[39;00m average_subjective_expected_utility\u001b[38;5;241m.\u001b[39mitems():\n",
      "File \u001b[0;32m~/anaconda3/lib/python3.11/site-packages/pandas/core/series.py:1040\u001b[0m, in \u001b[0;36mSeries.__getitem__\u001b[0;34m(self, key)\u001b[0m\n\u001b[1;32m   1037\u001b[0m     \u001b[38;5;28;01mreturn\u001b[39;00m \u001b[38;5;28mself\u001b[39m\u001b[38;5;241m.\u001b[39m_values[key]\n\u001b[1;32m   1039\u001b[0m \u001b[38;5;28;01melif\u001b[39;00m key_is_scalar:\n\u001b[0;32m-> 1040\u001b[0m     \u001b[38;5;28;01mreturn\u001b[39;00m \u001b[38;5;28mself\u001b[39m\u001b[38;5;241m.\u001b[39m_get_value(key)\n\u001b[1;32m   1042\u001b[0m \u001b[38;5;66;03m# Convert generator to list before going through hashable part\u001b[39;00m\n\u001b[1;32m   1043\u001b[0m \u001b[38;5;66;03m# (We will iterate through the generator there to check for slices)\u001b[39;00m\n\u001b[1;32m   1044\u001b[0m \u001b[38;5;28;01mif\u001b[39;00m is_iterator(key):\n",
      "File \u001b[0;32m~/anaconda3/lib/python3.11/site-packages/pandas/core/series.py:1156\u001b[0m, in \u001b[0;36mSeries._get_value\u001b[0;34m(self, label, takeable)\u001b[0m\n\u001b[1;32m   1153\u001b[0m     \u001b[38;5;28;01mreturn\u001b[39;00m \u001b[38;5;28mself\u001b[39m\u001b[38;5;241m.\u001b[39m_values[label]\n\u001b[1;32m   1155\u001b[0m \u001b[38;5;66;03m# Similar to Index.get_value, but we do not fall back to positional\u001b[39;00m\n\u001b[0;32m-> 1156\u001b[0m loc \u001b[38;5;241m=\u001b[39m \u001b[38;5;28mself\u001b[39m\u001b[38;5;241m.\u001b[39mindex\u001b[38;5;241m.\u001b[39mget_loc(label)\n\u001b[1;32m   1158\u001b[0m \u001b[38;5;28;01mif\u001b[39;00m is_integer(loc):\n\u001b[1;32m   1159\u001b[0m     \u001b[38;5;28;01mreturn\u001b[39;00m \u001b[38;5;28mself\u001b[39m\u001b[38;5;241m.\u001b[39m_values[loc]\n",
      "File \u001b[0;32m~/anaconda3/lib/python3.11/site-packages/pandas/core/indexes/base.py:3798\u001b[0m, in \u001b[0;36mIndex.get_loc\u001b[0;34m(self, key)\u001b[0m\n\u001b[1;32m   3793\u001b[0m     \u001b[38;5;28;01mif\u001b[39;00m \u001b[38;5;28misinstance\u001b[39m(casted_key, \u001b[38;5;28mslice\u001b[39m) \u001b[38;5;129;01mor\u001b[39;00m (\n\u001b[1;32m   3794\u001b[0m         \u001b[38;5;28misinstance\u001b[39m(casted_key, abc\u001b[38;5;241m.\u001b[39mIterable)\n\u001b[1;32m   3795\u001b[0m         \u001b[38;5;129;01mand\u001b[39;00m \u001b[38;5;28many\u001b[39m(\u001b[38;5;28misinstance\u001b[39m(x, \u001b[38;5;28mslice\u001b[39m) \u001b[38;5;28;01mfor\u001b[39;00m x \u001b[38;5;129;01min\u001b[39;00m casted_key)\n\u001b[1;32m   3796\u001b[0m     ):\n\u001b[1;32m   3797\u001b[0m         \u001b[38;5;28;01mraise\u001b[39;00m InvalidIndexError(key)\n\u001b[0;32m-> 3798\u001b[0m     \u001b[38;5;28;01mraise\u001b[39;00m \u001b[38;5;167;01mKeyError\u001b[39;00m(key) \u001b[38;5;28;01mfrom\u001b[39;00m \u001b[38;5;21;01merr\u001b[39;00m\n\u001b[1;32m   3799\u001b[0m \u001b[38;5;28;01mexcept\u001b[39;00m \u001b[38;5;167;01mTypeError\u001b[39;00m:\n\u001b[1;32m   3800\u001b[0m     \u001b[38;5;66;03m# If we have a listlike key, _check_indexing_error will raise\u001b[39;00m\n\u001b[1;32m   3801\u001b[0m     \u001b[38;5;66;03m#  InvalidIndexError. Otherwise we fall through and re-raise\u001b[39;00m\n\u001b[1;32m   3802\u001b[0m     \u001b[38;5;66;03m#  the TypeError.\u001b[39;00m\n\u001b[1;32m   3803\u001b[0m     \u001b[38;5;28mself\u001b[39m\u001b[38;5;241m.\u001b[39m_check_indexing_error(key)\n",
      "\u001b[0;31mKeyError\u001b[0m: 'New chosen career'"
     ]
    }
   ],
   "source": [
    "#Step 7: Display the results.\n",
    "print(\"Career transitions:\")\n",
    "for i, row in career_transitions.iterrows():\n",
    "    print(f\"Graduate {i}: New career {row['New chosen career']}\")\n",
    "\n",
    "print(\"\\nAverage subjective expected utility for each graduate:\")\n",
    "for i, utility in average_subjective_expected_utility.items():\n",
    "    print(f\"Graduate {i}: {utility}\")\n",
    "\n",
    "print(\"\\nEx post realized utility for each graduate:\")\n",
    "for i, utility in average_ex_post_realized_utility.items():\n",
    "    print(f\"Graduate {i}: {utility}\")\n",
    "\n",
    "print(f\"\\nShare of graduates that switch careers: {share_of_switches:.1f}\")\n",
    "\n",
    "#Step 8: Visualize the results.\n",
    "plt.figure(figsize=(12, 8))\n",
    "\n",
    "#We plot the share of graduates that switch careers conditional on their initial career choice.\n",
    "switching_stats = results_with_switching_df.groupby('Initial chosen career')['Switched'].mean()\n",
    "plt.subplot(3, 1, 1)\n",
    "plt.bar(switching_stats.index, switching_stats.values, tick_label=['Career 1', 'Career 2', 'Career 3'])\n",
    "plt.title('Share of graduates switching careers in the second year')\n",
    "plt.xlabel('Initial career choice')\n",
    "plt.ylabel('Share of graduates switching')\n",
    "\n",
    "#Average subjective expected utility after switching\n",
    "plt.subplot(3, 1, 2)\n",
    "plt.plot(average_subjective_expected_utility.index, average_subjective_expected_utility, label='Average Subjective Expected Utility', color='blue')\n",
    "plt.title('Average subjective expected utility after switching')\n",
    "plt.xlabel('Graduate')\n",
    "plt.ylabel('Utility')\n",
    "plt.xticks(np.arange(1, par.N + 1))\n",
    "plt.legend()\n",
    "\n",
    "#Average ex post realized utility after switching\n",
    "plt.subplot(3, 1, 3)\n",
    "plt.plot(average_ex_post_realized_utility.index, average_ex_post_realized_utility, label='Average ex post realized utility', color='blue')\n",
    "plt.title('Average ex post realized utility after switching')\n",
    "plt.xlabel('Graduate')\n",
    "plt.ylabel('Utility')\n",
    "plt.xticks(np.arange(1, par.N + 1))\n",
    "plt.legend()\n",
    "\n",
    "plt.tight_layout()\n",
    "plt.show()"
   ]
  },
  {
   "cell_type": "code",
   "execution_count": 26,
   "metadata": {},
   "outputs": [],
   "source": [
    "#We define the utility matrix: u_ijk[student, career, year] meaning 10 students, 3 careers, 2 years and the switching cost.\n",
    "u_ijk = np.random.rand(10, 3, 2)\n",
    "c = 1 \n",
    "\n",
    "#Step 1: Identify the new optimal career choice for each i, k.\n",
    "#We initializes an array careers with zeros to store the optimal career choices for each student and year. \n",
    "#The dimensions of new_careers are [number of students, number of years], and the data type is set to integer.\n",
    "careers = np.zeros((u_ijk.shape[0], u_ijk.shape[2]), dtype=int)\n",
    "#We start a loop over each student.\n",
    "for i in range(u_ijk.shape[0]):\n",
    "    #We start an inner loop over each year.\n",
    "    for k in range(u_ijk.shape[2]):\n",
    "        #We extract the utilities for student i for all careers in year k.\n",
    "        utilities = u_ijk[i, :, k]\n",
    "        #We adjust the utility values by subtracting the switching cost if the career is not the one with the highest utility.\n",
    "        utilities_w_c = np.where(np.arange(u_ijk.shape[1]) == np.argmax(utilities), utilities, utilities - c)\n",
    "        #We identify the career with the highest adjusted utility.\n",
    "        careers[i, k] = np.argmax(utilities_w_c)"
   ]
  },
  {
   "cell_type": "code",
   "execution_count": 27,
   "metadata": {},
   "outputs": [],
   "source": [
    "#Step 2: Calculate the average subjective expected utility from their new optimal career choice.\n",
    "#We calculate this for the second year (index 1). \n",
    "sub_exp_utility = np.take_along_axis(u_ijk[:, :, 1], careers[:, 1].reshape(-1, 1), axis=1)"
   ]
  },
  {
   "cell_type": "code",
   "execution_count": 28,
   "metadata": {},
   "outputs": [],
   "source": [
    "#Step 3: Calculate the ex post realized utility for each graduate.\n",
    "#Ex post realized utility is the actual utility realized for the chosen career in the second year.\n",
    "ex_post_realized_utility = sub_exp_utility"
   ]
  },
  {
   "cell_type": "code",
   "execution_count": 29,
   "metadata": {},
   "outputs": [],
   "source": [
    "#Step 4: Calculate the share of graduates that choose to switch careers.\n",
    "#We determine initial career choices\n",
    "initial_career_choice = np.argmax(u_ijk[:, :, 0], axis=1)\n",
    "#We compare the initial career choices with the new optimal career choices\n",
    "switch_careers = initial_career_choice != careers[:, 1]\n",
    "#and calculate the share of graduates that switch careers.\n",
    "switch_careers_share = np.mean(switch_careers)"
   ]
  },
  {
   "cell_type": "code",
   "execution_count": 31,
   "metadata": {},
   "outputs": [
    {
     "name": "stdout",
     "output_type": "stream",
     "text": [
      "New optimal careers:\n",
      "Graduate 1: ['Career 1', 'Career 2']\n",
      "Graduate 2: ['Career 1', 'Career 3']\n",
      "Graduate 3: ['Career 2', 'Career 2']\n",
      "Graduate 4: ['Career 2', 'Career 1']\n",
      "Graduate 5: ['Career 3', 'Career 3']\n",
      "Graduate 6: ['Career 3', 'Career 2']\n",
      "Graduate 7: ['Career 1', 'Career 3']\n",
      "Graduate 8: ['Career 2', 'Career 3']\n",
      "Graduate 9: ['Career 1', 'Career 2']\n",
      "Graduate 10: ['Career 3', 'Career 3']\n",
      "\n",
      "Average subjective expected utility for each graduate:\n",
      "Graduate 1: 0.9181367324654209\n",
      "Graduate 2: 0.9921966819748635\n",
      "Graduate 3: 0.7001599636046891\n",
      "Graduate 4: 0.9577282240932429\n",
      "Graduate 5: 0.2565755383356706\n",
      "Graduate 6: 0.7439174651176235\n",
      "Graduate 7: 0.6565018659780361\n",
      "Graduate 8: 0.8573759768425359\n",
      "Graduate 9: 0.9789423950820768\n",
      "Graduate 10: 0.906711549194909\n",
      "\n",
      "Ex post realized utility for each graduate:\n",
      "Graduate 1: 0.9181367324654209\n",
      "Graduate 2: 0.9921966819748635\n",
      "Graduate 3: 0.7001599636046891\n",
      "Graduate 4: 0.9577282240932429\n",
      "Graduate 5: 0.2565755383356706\n",
      "Graduate 6: 0.7439174651176235\n",
      "Graduate 7: 0.6565018659780361\n",
      "Graduate 8: 0.8573759768425359\n",
      "Graduate 9: 0.9789423950820768\n",
      "Graduate 10: 0.906711549194909\n",
      "\n",
      "Share of graduates that switch careers: 0.7\n"
     ]
    }
   ],
   "source": [
    "#Step 5: Creating the tables.\n",
    "#We name the columns\n",
    "graduates = [f'Graduate {i+1}' for i in range(u_ijk.shape[0])]\n",
    "career = [f'Career {j+1}' for j in range(u_ijk.shape[1])]\n",
    "years = [f'Year {k+1}' for k in range(u_ijk.shape[2])]\n",
    "\n",
    "#and display the labeled results\n",
    "print(\"New optimal careers:\")\n",
    "for i in range(u_ijk.shape[0]):\n",
    "    career_choices = [career[careers[i, k]] for k in range(u_ijk.shape[2])]\n",
    "    print(f'{graduates[i]}: {career_choices}')\n",
    "\n",
    "print(\"\\nAverage subjective expected utility for each graduate:\")\n",
    "for i in range(u_ijk.shape[0]):\n",
    "    print(f'{graduates[i]}: {sub_exp_utility[i][0]}')\n",
    "\n",
    "print(\"\\nEx post realized utility for each graduate:\")\n",
    "for i in range(u_ijk.shape[0]):\n",
    "    print(f'{graduates[i]}: {ex_post_realized_utility[i][0]}')\n",
    "\n",
    "print(\"\\nShare of graduates that switch careers:\", switch_careers_share)"
   ]
  },
  {
   "cell_type": "markdown",
   "metadata": {},
   "source": [
    "**Conclusion**:\n",
    "\n",
    "The table 'New optimal careers' lists the new optimal career choices for each graduate across two years"
   ]
  },
  {
   "cell_type": "markdown",
   "metadata": {},
   "source": [
    "## 3. <a id='toc3_'></a>[Problem 3: Barycentric interpolation](#toc0_)"
   ]
  },
  {
   "cell_type": "markdown",
   "metadata": {},
   "source": [
    "**Problem:** We have a set of random points in the unit square,\n",
    "\n",
    "$$\n",
    "\\mathcal{X} = \\{(x_1,x_2)\\,|\\,x_1\\sim\\mathcal{U}(0,1),x_2\\sim\\mathcal{U}(0,1)\\}.\n",
    "$$\n",
    "\n",
    "For these points, we know the value of some function $f(x_1,x_2)$,\n",
    "\n",
    "$$\n",
    "\\mathcal{F} = \\{f(x_1,x_2) \\,|\\, (x_1,x_2) \\in \\mathcal{X}\\}.\n",
    "$$\n",
    "\n",
    "Now we want to approximate the value $f(y_1,y_2)$ for some  $y=(y_1,y_2)$, where $y_1\\sim\\mathcal{U}(0,1)$ and $y_2\\sim\\mathcal{U}(0,1)$.\n",
    "\n",
    "**Building block I**\n",
    "\n",
    "For an arbitrary triangle $ABC$ and a point $y$, define the so-called barycentric coordinates as:\n",
    "\n",
    "$$\n",
    "\\begin{align*}\n",
    "  r^{ABC}_1 &= \\frac{(B_2-C_2)(y_1-C_1) + (C_1-B_1)(y_2-C_2)}{(B_2-C_2)(A_1-C_1) + (C_1-B_1)(A_2-C_2)} \\\\\n",
    "  r^{ABC}_2 &= \\frac{(C_2-A_2)(y_1-C_1) + (A_1-C_1)(y_2-C_2)}{(B_2-C_2)(A_1-C_1) + (C_1-B_1)(A_2-C_2)} \\\\\n",
    "  r^{ABC}_3 &= 1 - r_1 - r_2.\n",
    "\\end{align*}\n",
    "$$\n",
    "\n",
    "If $r^{ABC}_1 \\in [0,1]$, $r^{ABC}_2 \\in [0,1]$, and $r^{ABC}_3 \\in [0,1]$, then the point is inside the triangle.\n",
    "\n",
    "We always have $y = r^{ABC}_1 A + r^{ABC}_2 B + r^{ABC}_3 C$.\n",
    "\n",
    "**Building block II**\n",
    "\n",
    "Define the following points:\n",
    "\n",
    "$$\n",
    "\\begin{align*}\n",
    "A&=\\arg\\min_{(x_{1},x_{2})\\in\\mathcal{X}}\\sqrt{\\left(x_{1}-y_{1}\\right)^{2}+\\left(x_{2}-y_{2}\\right)^{2}}\\text{ s.t. }x_{1}>y_{1}\\text{ and }x_{2}>y_{2}\\\\\n",
    "B&=\\arg\\min_{(x_{1},x_{2})\\in\\mathcal{X}}\\sqrt{\\left(x_{1}-y_{1}\\right)^{2}+\\left(x_{2}-y_{2}\\right)^{2}}\\text{ s.t. }x_{1}>y_{1}\\text{ and }x_{2}<y_{2}\\\\\n",
    "C&=\\arg\\min_{(x_{1},x_{2})\\in\\mathcal{X}}\\sqrt{\\left(x_{1}-y_{1}\\right)^{2}+\\left(x_{2}-y_{2}\\right)^{2}}\\text{ s.t. }x_{1}<y_{1}\\text{ and }x_{2}<y_{2}\\\\\n",
    "D&=\\arg\\min_{(x_{1},x_{2})\\in\\mathcal{X}}\\sqrt{\\left(x_{1}-y_{1}\\right)^{2}+\\left(x_{2}-y_{2}\\right)^{2}}\\text{ s.t. }x_{1}<y_{1}\\text{ and }x_{2}>y_{2}.\n",
    "\\end{align*}\n",
    "$$\n",
    "\n",
    "**Algorithm:**\n",
    "\n",
    "1. Compute $A$, $B$, $C$, and $D$. If not possible return `NaN`.\n",
    "1. If $y$ is inside the triangle $ABC$ return $r^{ABC}_1 f(A) + r^{ABC}_2 f(B) + r^{ABC}_3 f(C)$.\n",
    "1. If $y$ is inside the triangle $CDA$ return $r^{CDA}_1 f(C) + r^{CDA}_2 f(D) + r^{CDA}_3 f(A)$.\n",
    "1. Return `NaN`.\n",
    "\n"
   ]
  },
  {
   "cell_type": "markdown",
   "metadata": {},
   "source": [
    "**Sample:**"
   ]
  },
  {
   "cell_type": "code",
   "execution_count": null,
   "metadata": {},
   "outputs": [],
   "source": [
    "rng = np.random.default_rng(2024)\n",
    "\n",
    "X = rng.uniform(size=(50,2))\n",
    "y = rng.uniform(size=(2,))\n"
   ]
  },
  {
   "cell_type": "markdown",
   "metadata": {},
   "source": [
    "**Questions 1:** Find $A$, $B$, $C$ and $D$. Illustrate these together with $X$, $y$ and the triangles $ABC$ and $CDA$."
   ]
  },
  {
   "cell_type": "code",
   "execution_count": null,
   "metadata": {},
   "outputs": [],
   "source": [
    "# write your answer here"
   ]
  },
  {
   "cell_type": "markdown",
   "metadata": {},
   "source": [
    "**Question 2:** Compute the barycentric coordinates of the point $y$ with respect to the triangles $ABC$ and $CDA$. Which triangle is $y$ located inside?"
   ]
  },
  {
   "cell_type": "code",
   "execution_count": null,
   "metadata": {},
   "outputs": [],
   "source": [
    "# write your answer here"
   ]
  },
  {
   "cell_type": "markdown",
   "metadata": {},
   "source": [
    "Now consider the function:\n",
    "$$\n",
    "f(x_1,x_2) = x_1 \\cdot x_2\n",
    "$$"
   ]
  },
  {
   "cell_type": "code",
   "execution_count": null,
   "metadata": {},
   "outputs": [],
   "source": [
    "f = lambda x: x[0]*x[1]\n",
    "F = np.array([f(x) for x in X])"
   ]
  },
  {
   "cell_type": "markdown",
   "metadata": {},
   "source": [
    "**Question 3:** Compute the approximation of $f(y)$ using the full algorithm. Compare with the true value."
   ]
  },
  {
   "cell_type": "code",
   "execution_count": null,
   "metadata": {},
   "outputs": [],
   "source": [
    "# write your answer here"
   ]
  },
  {
   "cell_type": "markdown",
   "metadata": {},
   "source": [
    "**Question 4:** Repeat question 3 for all points in the set $Y$."
   ]
  },
  {
   "cell_type": "code",
   "execution_count": null,
   "metadata": {},
   "outputs": [],
   "source": [
    "Y = [(0.2,0.2),(0.8,0.2),(0.8,0.8),(0.8,0.2),(0.5,0.5)]"
   ]
  },
  {
   "cell_type": "code",
   "execution_count": null,
   "metadata": {},
   "outputs": [],
   "source": [
    "# write your answer here"
   ]
  }
 ],
 "metadata": {
  "kernelspec": {
   "display_name": "base",
   "language": "python",
   "name": "python3"
  },
  "language_info": {
   "codemirror_mode": {
    "name": "ipython",
    "version": 3
   },
   "file_extension": ".py",
   "mimetype": "text/x-python",
   "name": "python",
   "nbconvert_exporter": "python",
   "pygments_lexer": "ipython3",
   "version": "3.11.8"
  }
 },
 "nbformat": 4,
 "nbformat_minor": 2
}

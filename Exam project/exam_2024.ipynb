{
 "cells": [
  {
   "cell_type": "markdown",
   "metadata": {},
   "source": [
    "**Table of contents**<a id='toc0_'></a>    \n",
    "- 1. [Problem 1: Production economy and CO2 taxation](#toc1_)    \n",
    "- 2. [Problem 2: Career choice model](#toc2_)    \n",
    "- 3. [Problem 3: Barycentric interpolation](#toc3_)    \n",
    "\n",
    "<!-- vscode-jupyter-toc-config\n",
    "\tnumbering=true\n",
    "\tanchor=true\n",
    "\tflat=false\n",
    "\tminLevel=2\n",
    "\tmaxLevel=6\n",
    "\t/vscode-jupyter-toc-config -->\n",
    "<!-- THIS CELL WILL BE REPLACED ON TOC UPDATE. DO NOT WRITE YOUR TEXT IN THIS CELL -->"
   ]
  },
  {
   "cell_type": "code",
   "execution_count": 1,
   "metadata": {},
   "outputs": [],
   "source": [
    "# Write your code here\n",
    "import numpy as np\n",
    "import pandas as pd #til opgave 2\n",
    "import matplotlib.pyplot as plt #til opgave 2\n",
    "from types import SimpleNamespace"
   ]
  },
  {
   "cell_type": "markdown",
   "metadata": {},
   "source": [
    "## 1. <a id='toc1_'></a>[Problem 1: Production economy and CO2 taxation](#toc0_)"
   ]
  },
  {
   "cell_type": "markdown",
   "metadata": {},
   "source": [
    "Consider a production economy with two firms indexed by $j \\in \\{1,2\\}$. Each produce its own good. They solve\n",
    "\n",
    "$$\n",
    "\\begin{align*}\n",
    "\\max_{y_{j}}\\pi_{j}&=p_{j}y_{j}-w_{j}\\ell_{j}\\\\\\text{s.t.}\\;&y_{j}=A\\ell_{j}^{\\gamma}.\n",
    "\\end{align*}\n",
    "$$\n",
    "\n",
    "Optimal firm behavior is\n",
    "\n",
    "$$\n",
    "\\begin{align*}\n",
    "\\ell_{j}^{\\star}(w,p_{j})&=\\left(\\frac{p_{j}A\\gamma}{w}\\right)^{\\frac{1}{1-\\gamma}} \\\\\n",
    "y_{j}^{\\star}(w,p_{j})&=A\\left(\\ell_{j}^{\\star}(w,p_{j})\\right)^{\\gamma}\n",
    "\\end{align*}\n",
    "$$\n",
    "\n",
    "The implied profits are\n",
    "\n",
    "$$\n",
    "\\pi_{j}^*(w,p_{j})=\\frac{1-\\gamma}{\\gamma}w\\cdot\\left(\\frac{p_{j}A\\gamma}{w}\\right)^{\\frac{1}{1-\\gamma}}\n",
    "$$\n",
    "\n",
    "A single consumer supplies labor, and consumes the goods the firms produce. She also recieves the implied profits of the firm.<br>\n",
    "She solves:\n",
    "\n",
    "$$\n",
    "\\begin{align*}\n",
    "U(p_1,p_2,w,\\tau,T) = \\max_{c_{1},c_{2},\\ell} & \\log(c_{1}^{\\alpha}c_{2}^{1-\\alpha})-\\nu\\frac{\\ell^{1+\\epsilon}}{1+\\epsilon} \\\\\n",
    "\\text{s.t.}\\,\\,\\,&p_{1}c_{1}+(p_{2}+\\tau)c_{2}=w\\ell+T+\\pi_{1}^*(w,p_{1})+\\pi_{2}^*(w,p_{2})\n",
    "\\end{align*}\n",
    "$$\n",
    "\n",
    "where $\\tau$ is a tax and $T$ is lump-sum transfer. <br>\n",
    "For a given $\\ell$, it can be shown that optimal behavior is\n",
    "\n",
    "$$\n",
    "\\begin{align*}\n",
    "c_{1}(\\ell)&=\\alpha\\frac{w\\ell+T+\\pi_{1}^*(w,p_{1})+\\pi_{2}^*(w,p_{2})}{p_{1}} \\\\\n",
    "c_{2}(\\ell)&=(1-\\alpha)\\frac{w\\ell+T+\\pi_{1}^*(w,p_{1})+\\pi_{2}^*(w,p_{2})}{p_{2}+\\tau} \\\\\n",
    "\\end{align*}\n",
    "$$\n",
    "Such that optimal behavior is:\n",
    "$$\n",
    "\\ell^* = \\underset{\\ell}{\\arg\\max} \\log(\\left(c_{1}(\\ell)\\right)^{\\alpha}\\cdot \\left(c_{2}(\\ell)\\right)^{1-\\alpha})-\\nu\\frac{\\ell^{1+\\epsilon}}{1+\\epsilon} \n",
    "$$\n",
    "With optimal consumption:\n",
    "$$\n",
    "\\begin{align*}\n",
    "c_1^*=c_{1}(\\ell^*) \\\\\n",
    "c_2^*=c_{2}(\\ell^*)\\\\\n",
    "\\end{align*}\n",
    "$$\n",
    "\n",
    "\n",
    "The government chooses $\\tau$ and balances its budget so $T=\\tau c_2^*$. We initially set $\\tau,T=0$.\n",
    "\n",
    "Market clearing requires:\n",
    "\n",
    "1. Labor market: $\\ell^* = \\ell_1^* + \\ell_2^*$\n",
    "1. Good market 1: $c_1^* = y_1^*$\n",
    "1. Good market 2: $c_2^* = y_2^*$\n"
   ]
  },
  {
   "cell_type": "markdown",
   "metadata": {},
   "source": [
    "**Question 1:** Check market clearing conditions for $p_1$ in `linspace(0.1,2.0,10)` and $p_2$ in `linspace(0.1,2.0,10)`. We choose $w=1$ as numeraire."
   ]
  },
  {
   "cell_type": "code",
   "execution_count": 27,
   "metadata": {},
   "outputs": [],
   "source": [
    "par = SimpleNamespace()\n",
    "\n",
    "# firms\n",
    "par.A = 1.0\n",
    "par.gamma = 0.5\n",
    "\n",
    "# households\n",
    "par.alpha = 0.3\n",
    "par.nu = 1.0\n",
    "par.epsilon = 2.0\n",
    "\n",
    "# government\n",
    "par.tau = 0.0\n",
    "par.T = 0.0\n",
    "\n",
    "# Question 3\n",
    "par.kappa = 0.1"
   ]
  },
  {
   "cell_type": "code",
   "execution_count": 3,
   "metadata": {},
   "outputs": [],
   "source": [
    "# write you answer here"
   ]
  },
  {
   "cell_type": "markdown",
   "metadata": {},
   "source": [
    "**Question 2:** Find the equilibrium prices $p_1$ and $p_2$.<br>\n",
    "*Hint: you can use Walras' law to only check 2 of the market clearings*"
   ]
  },
  {
   "cell_type": "code",
   "execution_count": null,
   "metadata": {},
   "outputs": [],
   "source": [
    "# write your answer here"
   ]
  },
  {
   "cell_type": "markdown",
   "metadata": {},
   "source": [
    "Assume the government care about the social welfare function:\n",
    "\n",
    "$$\n",
    "SWF = U - \\kappa y_2^*\n",
    "$$"
   ]
  },
  {
   "cell_type": "markdown",
   "metadata": {},
   "source": [
    "Here $\\kappa$ measures the social cost of carbon emitted by the production of $y_2$ in equilibrium."
   ]
  },
  {
   "cell_type": "markdown",
   "metadata": {},
   "source": [
    "**Question 3:** What values of $\\tau$ and (implied) $T$ should the government choose to maximize $SWF$?"
   ]
  },
  {
   "cell_type": "code",
   "execution_count": null,
   "metadata": {},
   "outputs": [],
   "source": [
    "# write your answer here"
   ]
  },
  {
   "cell_type": "markdown",
   "metadata": {},
   "source": [
    "## 2. <a id='toc2_'></a>[Problem 2: Career choice model](#toc0_)"
   ]
  },
  {
   "cell_type": "markdown",
   "metadata": {},
   "source": [
    "Consider a graduate $i$ making a choice between entering $J$ different career tracks. <br>\n",
    "Entering career $j$ yields utility $u^k_{ij}$. This value is unknown to the graduate ex ante, but will ex post be: <br>\n",
    "$$\n",
    "    u_{i,j}^k = v_{j} + \\epsilon_{i,j}^k\n",
    "$$\n",
    "\n",
    "They know that $\\epsilon^k_{i,j}\\sim \\mathcal{N}(0,\\sigma^2)$, but they do not observe $\\epsilon^k_{i,j}$ before making their career choice. <br>"
   ]
  },
  {
   "cell_type": "markdown",
   "metadata": {},
   "source": [
    "Consider the concrete case of $J=3$ with:\n",
    "$$\n",
    "\\begin{align*}\n",
    "    v_{1} &= 1 \\\\\n",
    "    v_{2} &= 2 \\\\\n",
    "    v_{3} &= 3\n",
    "\\end{align*}\n",
    "$$"
   ]
  },
  {
   "cell_type": "markdown",
   "metadata": {},
   "source": [
    "If the graduates know the values of $v_j$ and the distribution of $\\epsilon_{i,j}^k$, they can calculate the expected utility of each career track using simulation: <br>\n",
    "$$\n",
    "    \\mathbb{E}\\left[ u^k_{i,j}\\vert v_j \\right] \\approx v_j + \\frac{1}{K}\\sum_{k=1}^K \\epsilon_{i,j}^k\n",
    "$$"
   ]
  },
  {
   "cell_type": "code",
   "execution_count": 2,
   "metadata": {},
   "outputs": [],
   "source": [
    "par = SimpleNamespace()\n",
    "par.J = 3\n",
    "par.N = 10\n",
    "par.K = 10000\n",
    "\n",
    "par.F = np.arange(1,par.N+1)\n",
    "par.sigma = 2\n",
    "\n",
    "par.v = np.array([1,2,3])\n",
    "par.c = 1"
   ]
  },
  {
   "cell_type": "markdown",
   "metadata": {},
   "source": [
    "**Question 1:** Simulate and calculate expected utility and the average realised utility for $K=10000$ draws, for each career choice $j$.\n"
   ]
  },
  {
   "cell_type": "markdown",
   "metadata": {},
   "source": [
    "We want to calculate the mean value of the utility across all simulations for each career choice and the average experienced utility across all simulations for each career choice. \n",
    "\n",
    "We will follow this structure:\n",
    "1. Simulation of the error terms.\n",
    "2. Calculating the expected utility.\n",
    "3. Calculating the average realized utility.\n",
    "4. Displaying the results.\n"
   ]
  },
  {
   "cell_type": "code",
   "execution_count": 4,
   "metadata": {},
   "outputs": [],
   "source": [
    "#Step 1: Simulation of the error terms.\n",
    "#We set the seed to 42 to ensure reproducibility of the random numbers.\n",
    "np.random.seed(42) \n",
    "#Now, we generate an array of numbers from a normal distribution with mean 0 and standard deviation par.sigma, which is 2.\n",
    "#The shape of the array is par.J, par.K, which means that the array of numbers has 3 rows and 10000 columns: one for each\n",
    "#career track and one for each simulation.\n",
    "array_numbers = np.random.normal(0, par.sigma, (par.J, par.K))"
   ]
  },
  {
   "cell_type": "code",
   "execution_count": 5,
   "metadata": {},
   "outputs": [],
   "source": [
    "#Step 2: Calculating the expected utility.\n",
    "#We start by creating an array that stores the expected utility for each career track.\n",
    "#The array is initialized with zeros and has a length of the array par.J.\n",
    "expected_utility = np.zeros(par.J)\n",
    "\n",
    "#Now we loop through each career track to calculate the expected utility.\n",
    "for j in range(par.J):\n",
    "    #We calculate the expected utility for career choice j.\n",
    "    #par.v[j] is the utility value for career choice j.\n",
    "    #np.mean(array_numbers[j, :]) calculates the mean of the error terms for career choice j across all simulations.\n",
    "    expected_utility[j] = par.v[j] + np.mean(array_numbers[j, :])"
   ]
  },
  {
   "cell_type": "code",
   "execution_count": 6,
   "metadata": {},
   "outputs": [],
   "source": [
    "#Step 3: Calculating the average realized utility.\n",
    "#We create an array of utility values for each career choice.\n",
    "#We reshape par.v from a 1D array into a 2D array (3, 1) so we can add the array_numbers array by matching the dimensions correctly.\n",
    "#Each utility value (1, 2, or 3) is added to the corresponding error terms across all simulations.\n",
    "realized_utility = par.v.reshape((par.J, 1)) + array_numbers\n",
    "#We now calculate the average realized utility. np.mean(realized_utility, axis=1) calculates the mean of realized_utility across \n",
    "#all 10000 simulations for each career choice..\n",
    "average_realized_utility = np.mean(realized_utility, axis=1)"
   ]
  },
  {
   "cell_type": "code",
   "execution_count": 7,
   "metadata": {},
   "outputs": [
    {
     "name": "stdout",
     "output_type": "stream",
     "text": [
      "Career choice 1:\n",
      "  Expected Utility: 0.996\n",
      "  Average Realized Utility: 0.996\n",
      "Career choice 2:\n",
      "  Expected Utility: 2.027\n",
      "  Average Realized Utility: 2.027\n",
      "Career choice 3:\n",
      "  Expected Utility: 2.975\n",
      "  Average Realized Utility: 2.975\n"
     ]
    }
   ],
   "source": [
    "#Step 4: Displaying the results.\n",
    "for j in range(par.J):\n",
    "    print(f\"Career choice {j+1}:\")\n",
    "    print(f\"  Expected Utility: {expected_utility[j]:.3f}\")\n",
    "    print(f\"  Average Realized Utility: {average_realized_utility[j]:.3f}\")"
   ]
  },
  {
   "cell_type": "markdown",
   "metadata": {},
   "source": [
    "**Conclusion**:\n",
    "\n",
    "Graduates rank the career tracks in terms of utility as follows: Career track 3 > career track 2 > career track 1 based on both their expectations and their actual experiences indicating a clear preference for career track 3.\n",
    "\n",
    "The results show that for each career choice, the expected utility and average realized utility are very close to the base utility values (1, 2, and 3) respectively. This is due to the error terms having an average of zero - therefore they don't change the base utility values much and when using 10000 simulations it helps average out any random fluctuations, making the results stable. \n",
    "\n",
    "The expected utility for each career choice represents the average utility that graduates anticipate receiving from choosing a specific career track. This is calculated based on the known utility values of the career tracks and the simulated influence of friends' utilities. It reflects the graduates' perceptions or predictions about how beneficial each career track will be before they make their decision. \n",
    "\n",
    "The average realized utility for each career choice represents the actual utility that graduates experience after choosing a specific career track. This includes the inherent utility of the career track and the graduate's own random variations in utility. It shows the true benefits that graduates receive from their chosen career tracks, accounting for the randomness and variability in real-life outcomes.\n",
    "\n",
    "The close match between expected utility and average realized utility implies that the graduates' decision-making process is effective, as their expectations are based on accurate assessments of the career tracks and they can make informed decisions based on their expectations, knowing that their actual experiences are likely to match these expectations.\n"
   ]
  },
  {
   "cell_type": "markdown",
   "metadata": {},
   "source": [
    "Now consider a new scenario: Imagine that the graduate does not know $v_j$. The *only* prior information they have on the value of each job, comes from their $F_{i}$ friends that work in each career $j$. After talking with them, they know the average utility of their friends (which includes their friends' noise term), giving them the prior expecation: <br>\n",
    "$$\n",
    "\\tilde{u}^k_{i,j}\\left( F_{i}\\right) = \\frac{1}{F_{i}}\\sum_{f=1}^{F_{i}} \\left(v_{j} + \\epsilon^k_{f,j}\\right), \\; \\epsilon^k_{f,j}\\sim \\mathcal{N}(0,\\sigma^2)\n",
    "$$\n",
    "For ease of notation consider that each graduate have $F_{i}=i$ friends in each career. <br>"
   ]
  },
  {
   "cell_type": "markdown",
   "metadata": {},
   "source": [
    "For $K$ times do the following: <br>\n",
    "1. For each person $i$ draw $J\\cdot F_i$ values of $\\epsilon_{f,j}^{k}$, and calculate the prior expected utility of each career track, $\\tilde{u}^k_{i,j}\\left( F_{i}\\right)$. <br>\n",
    "Also draw their own $J$ noise terms, $\\epsilon_{i,j}^k$\n",
    "1. Each person $i$ chooses the career track with the highest expected utility: $$j_i^{k*}= \\arg\\max_{j\\in{1,2\\dots,J}}\\left\\{ \\tilde{u}^k_{i,j}\\left( F_{i}\\right)\\right\\} $$\n",
    "1. Store the chosen careers: $j_i^{k*}$, the prior expectation of the value of their chosen career: $\\tilde{u}^k_{i,j=j_i^{k*}}\\left( F_{i}\\right)$, and the realized value of their chosen career track: $u^k_{i,j=j_i^{k*}}=v_{j=j_i^{k*}}+\\epsilon_{i,j=j_i^{k*}}^k$."
   ]
  },
  {
   "cell_type": "markdown",
   "metadata": {},
   "source": [
    "Chosen values will be: <br>\n",
    "$i\\in\\left\\{1,2\\dots,N\\right\\}, N=10$ <br>\n",
    "$F_i = i$<br>\n",
    "So there are 10 graduates. The first has 1 friend in each career, the second has 2 friends, ... the tenth has 10 friends."
   ]
  },
  {
   "cell_type": "markdown",
   "metadata": {},
   "source": [
    "**Question 2:** Simulate and visualize: For each type of graduate, $i$, the share of graduates choosing each career, the average subjective expected utility of the graduates, and the average ex post realized utility given their choice. <br>\n",
    "That is, calculate and visualize: <br>\n",
    "$$\n",
    "\\begin{align*}\n",
    "    \\frac{1}{K} \\sum_{k=1}^{K} \\mathbb{I}\\left\\{ j=j_i^{k*} \\right\\}  \\;\\forall j\\in\\left\\{1,2,\\dots,J\\right\\}\n",
    "\\end{align*}\n",
    "$$\n",
    "$$\n",
    "\\begin{align*}\n",
    "    \\frac{1}{K} \\sum_{k=1}^{K} \\tilde{u}^k_{ij=j_i^{k*}}\\left( F_{i}\\right)\n",
    "\\end{align*}\n",
    "$$\n",
    "And \n",
    "$$\n",
    "\\begin{align*}\n",
    "    \\frac{1}{K} \\sum_{k=1}^{K} u^k_{ij=j_i^{k*}} \n",
    "\\end{align*}\n",
    "$$\n",
    "For each graduate $i$."
   ]
  },
  {
   "cell_type": "markdown",
   "metadata": {},
   "source": [
    "We want to simulate and visualize the decision-making process of graduates when choosing their careers by understanding: a) or each type of graduate, the proportion of times they choose each career track across multiple simulations, b) for each type of graduate, the average expected utility they perceive for the career track they choose, considering the influence of their friends and c) for each type of graduate, the actual utility they experience for the career track they choose, accounting for random variations. \n",
    "\n",
    "We wil follow this structure:\n",
    "1. Define simulation function: Generate random error terms for friends and personal utilities, calculate prior expected utilities for each career track, determine the career choice with the highest expected utility, calculate the realized utility for the chosen career and store the results for each simulation.\n",
    "2. Perform the simulation\n",
    "3. Aggregate results\n",
    "4. Display aggregated results\n",
    "5. Extract data for plotting\n",
    "6. Plot the results"
   ]
  },
  {
   "cell_type": "code",
   "execution_count": 4,
   "metadata": {},
   "outputs": [],
   "source": [
    "#We ensure that when we print a dataframe, pandas will show all rows and columns, fit the display width automatically.\n",
    "pd.set_option('display.max_rows', None)\n",
    "pd.set_option('display.max_columns', None)\n",
    "pd.set_option('display.width', None)\n",
    "pd.set_option('display.max_colwidth', None)\n",
    "\n",
    "#Step 1: Define simulation function\n",
    "#This function simulates the career choices for the given parameters.\n",
    "def simulate_career_choices(seed=42):\n",
    "    np.random.seed(seed)\n",
    "    results = []\n",
    "\n",
    "    for k in range(par.K):\n",
    "        #Step 1.1: We generate random error terms for friends and personal utilities\n",
    "        error_friends = {i: np.random.normal(0, par.sigma, (i, par.J)) for i in range(1, par.N + 1)}\n",
    "        error_personal = {i: np.random.normal(0, par.sigma, par.J) for i in range(1, par.N + 1)}\n",
    "\n",
    "        for i in range(1, par.N + 1):\n",
    "            #Step 1.2: We calculate prior expected utilities\n",
    "            first_expected_utility = par.v + np.mean(error_friends[i], axis=0)\n",
    "\n",
    "            #Step 1.3: We determine the career choice with the highest expected utility\n",
    "            career_chosen = np.argmax(first_expected_utility) + 1\n",
    "\n",
    "            #Step 1.4: We calculate the realized utility\n",
    "            realized_utility = par.v[career_chosen - 1] + error_personal[i][career_chosen - 1]\n",
    "\n",
    "            #Step 1.5: We store the results\n",
    "            results.append({\n",
    "                'Graduate': i,\n",
    "                'Career track': career_chosen,\n",
    "                'Share of choices': 1 / par.K,\n",
    "                'Expected utility': first_expected_utility[career_chosen - 1],\n",
    "                'Realized utility': realized_utility\n",
    "            })\n",
    "    \n",
    "    return pd.DataFrame(results)"
   ]
  },
  {
   "cell_type": "code",
   "execution_count": 5,
   "metadata": {},
   "outputs": [],
   "source": [
    "#Step 2: We perform the simulation\n",
    "results_df = simulate_career_choices()"
   ]
  },
  {
   "cell_type": "code",
   "execution_count": 6,
   "metadata": {},
   "outputs": [],
   "source": [
    "#Step 3: Aggregate results\n",
    "#We aggregate the results to get the average statistics per graduate and career track.\n",
    "results_aggregated = results_df.groupby(['Graduate', 'Career track']).agg(\n",
    "    Share_of_choices=pd.NamedAgg(column='Share of choices', aggfunc='sum'),\n",
    "    Expected_utility=pd.NamedAgg(column='Expected utility', aggfunc='mean'),\n",
    "    Realized_utility=pd.NamedAgg(column='Realized utility', aggfunc='mean')\n",
    ").reset_index()\n",
    "\n",
    "#We sort the dataframe for better readability\n",
    "results_aggregated = results_aggregated.sort_values(by=['Graduate', 'Career track'])\n"
   ]
  },
  {
   "cell_type": "code",
   "execution_count": 7,
   "metadata": {},
   "outputs": [
    {
     "name": "stdout",
     "output_type": "stream",
     "text": [
      "    Graduate  Career track  Share_of_choices  Expected_utility  \\\n",
      "0          1             1            0.1526          3.441558   \n",
      "1          1             2            0.3002          3.833983   \n",
      "2          1             3            0.5472          4.105014   \n",
      "3          2             1            0.0926          2.911179   \n",
      "4          2             2            0.2677          3.276323   \n",
      "5          2             3            0.6397          3.651353   \n",
      "6          3             1            0.0625          2.729710   \n",
      "7          3             2            0.2504          3.120756   \n",
      "8          3             3            0.6871          3.455232   \n",
      "9          4             1            0.0476          2.591148   \n",
      "10         4             2            0.2200          2.958790   \n",
      "11         4             3            0.7324          3.335924   \n",
      "12         5             1            0.0369          2.511058   \n",
      "13         5             2            0.2047          2.893272   \n",
      "14         5             3            0.7584          3.252665   \n",
      "15         6             1            0.0254          2.491346   \n",
      "16         6             2            0.1849          2.850665   \n",
      "17         6             3            0.7897          3.228092   \n",
      "18         7             1            0.0206          2.478963   \n",
      "19         7             2            0.1703          2.817512   \n",
      "20         7             3            0.8091          3.178494   \n",
      "21         8             1            0.0126          2.470811   \n",
      "22         8             2            0.1579          2.779566   \n",
      "23         8             3            0.8295          3.167496   \n",
      "24         9             1            0.0114          2.431559   \n",
      "25         9             2            0.1400          2.733723   \n",
      "26         9             3            0.8486          3.129801   \n",
      "27        10             1            0.0068          2.328820   \n",
      "28        10             2            0.1294          2.734251   \n",
      "29        10             3            0.8638          3.114346   \n",
      "\n",
      "    Realized_utility  \n",
      "0           0.940285  \n",
      "1           1.942411  \n",
      "2           2.982538  \n",
      "3           1.019571  \n",
      "4           2.032985  \n",
      "5           3.014369  \n",
      "6           0.959034  \n",
      "7           2.002093  \n",
      "8           2.993372  \n",
      "9           0.952251  \n",
      "10          2.048006  \n",
      "11          2.964658  \n",
      "12          1.052594  \n",
      "13          2.009377  \n",
      "14          3.009555  \n",
      "15          1.085685  \n",
      "16          2.079660  \n",
      "17          2.999844  \n",
      "18          1.262062  \n",
      "19          1.989161  \n",
      "20          2.985556  \n",
      "21          1.327477  \n",
      "22          1.999136  \n",
      "23          3.010609  \n",
      "24          1.119899  \n",
      "25          2.000029  \n",
      "26          3.020916  \n",
      "27          1.132688  \n",
      "28          1.949676  \n",
      "29          2.982580  \n"
     ]
    }
   ],
   "source": [
    "#Step 4: We display the aggregated results\n",
    "print(results_aggregated)"
   ]
  },
  {
   "cell_type": "markdown",
   "metadata": {},
   "source": [
    "In the table above, each row represents a specific combination of graduate and career track, and each column provides specific information about that combination.\n",
    "\n",
    "*Graduate* is the graduate number and ranges from 1 to par.N (10), *career track* is the career track number ranging from 1 to par.J (3), *share of choices* is the proportion of times this career track was chosen by this graduate across all simulations, *expected utility* is the average expected utility perceived by this graduate for this career track across all simulations, *realized utility* is the average realized utility experienced by this graduate for this career track across all simulations.\n",
    "\n",
    "The first three rows can therefore be read as: Graduate 1 chose career track 1 about 15.26% of the time, career track 2 about 30.02% of the time, and career track 3 about 54.72% of the time. Therefore, career track 3 was the most popular choice among graduate 1. The expected utility for this graduate choosing career track 3 is approximately 3.44, which is higher than the expected utilities for career track 1 (0.15) and career track 2 (3.33). This suggests that graduate 1 perceives career track 3 to be significantly more beneficial compared to the other tracks. This also aligns with the realized utility, where graduate 1 has the highest realized utility for career track 3."
   ]
  },
  {
   "cell_type": "code",
   "execution_count": 8,
   "metadata": {},
   "outputs": [],
   "source": [
    "# Step 5: Extract Data for Plotting\n",
    "# We extract the data needed for plotting from the aggregated results.\n",
    "career_1_share = results_aggregated[results_aggregated['Career track'] == 1]['Share_of_choices'].values\n",
    "career_2_share = results_aggregated[results_aggregated['Career track'] == 2]['Share_of_choices'].values\n",
    "career_3_share = results_aggregated[results_aggregated['Career track'] == 3]['Share_of_choices'].values\n",
    "\n",
    "career_1_expected = results_aggregated[results_aggregated['Career track'] == 1]['Expected_utility'].values\n",
    "career_2_expected = results_aggregated[results_aggregated['Career track'] == 2]['Expected_utility'].values\n",
    "career_3_expected = results_aggregated[results_aggregated['Career track'] == 3]['Expected_utility'].values\n",
    "\n",
    "career_1_realized = results_aggregated[results_aggregated['Career track'] == 1]['Realized_utility'].values\n",
    "career_2_realized = results_aggregated[results_aggregated['Career track'] == 2]['Realized_utility'].values\n",
    "career_3_realized = results_aggregated[results_aggregated['Career track'] == 3]['Realized_utility'].values\n"
   ]
  },
  {
   "cell_type": "code",
   "execution_count": 9,
   "metadata": {},
   "outputs": [
    {
     "data": {
      "image/png": "[encoded data removed]",
      "text/plain": [
       "<Figure size 1200x600 with 1 Axes>"
      ]
     },
     "metadata": {},
     "output_type": "display_data"
    },
    {
     "data": {
      "image/png": "[encoded data removed]",
      "text/plain": [
       "<Figure size 1200x600 with 1 Axes>"
      ]
     },
     "metadata": {},
     "output_type": "display_data"
    },
    {
     "data": {
      "image/png": "[encoded data removed]",
      "text/plain": [
       "<Figure size 1200x600 with 1 Axes>"
      ]
     },
     "metadata": {},
     "output_type": "display_data"
    }
   ],
   "source": [
    "# Step 6: Plot the Results\n",
    "# Step 6.1: Plot the share of choices for each graduate\n",
    "fig, ax = plt.subplots(figsize=(12, 6))\n",
    "width = 0.25\n",
    "\n",
    "x = np.arange(par.N)\n",
    "ax.bar(x - width, career_1_share, width, label='Career 1', color='red')\n",
    "ax.bar(x, career_2_share, width, label='Career 2', color='green')\n",
    "ax.bar(x + width, career_3_share, width, label='Career 3', color='blue')\n",
    "\n",
    "ax.set_xlabel('Graduates')\n",
    "ax.set_ylabel('Share')\n",
    "ax.set_title('Share of graduates choosing the three careers')\n",
    "ax.set_xticks(x)\n",
    "ax.set_xticklabels(np.arange(1, par.N + 1))\n",
    "ax.legend()\n",
    "\n",
    "plt.show()\n",
    "\n",
    "# Step 6.2: Plot the average subjective expected utility for each graduate\n",
    "fig, ax = plt.subplots(figsize=(12, 6))\n",
    "width = 0.25\n",
    "\n",
    "ax.bar(x - width, career_1_expected, width, label='Career 1', color='red')\n",
    "ax.bar(x, career_2_expected, width, label='Career 2', color='green')\n",
    "ax.bar(x + width, career_3_expected, width, label='Career 3', color='blue')\n",
    "\n",
    "ax.set_xlabel('Graduates')\n",
    "ax.set_ylabel('Utility')\n",
    "ax.set_title('Average subjective expected utility')\n",
    "ax.set_xticks(x)\n",
    "ax.set_xticklabels(np.arange(1, par.N + 1))\n",
    "ax.legend()\n",
    "\n",
    "plt.show()\n",
    "\n",
    "# Step 6.3: Plot the average ex post realized utility for each graduate\n",
    "fig, ax = plt.subplots(figsize=(12, 6))\n",
    "width = 0.25\n",
    "\n",
    "ax.bar(x - width, career_1_realized, width, label='Career 1', color='red')\n",
    "ax.bar(x, career_2_realized, width, label='Career 2', color='green')\n",
    "ax.bar(x + width, career_3_realized, width, label='Career 3', color='blue')\n",
    "\n",
    "ax.set_xlabel('Graduates')\n",
    "ax.set_ylabel('Utility')\n",
    "ax.set_title('Average realized utility')\n",
    "ax.set_xticks(x)\n",
    "ax.set_xticklabels(np.arange(1, par.N + 1))\n",
    "ax.legend()\n",
    "\n",
    "plt.show()"
   ]
  },
  {
   "cell_type": "markdown",
   "metadata": {},
   "source": [
    "The plots indicate that graduates tend to have higher expected utilities for career tracks popular among their friends. Social influence leads graduates to anticipate greater benefits from well seen tracks. For example, in the \"Share of graduates choosing the three careers\" plot, career 3 is the most popular, especially among graduates with more friends, such as graduate 10. This results in higher expected utilities for career 3.\n",
    "\n",
    "Graduates with more friends receive more feedback, which can lead to higher expected utilities but also more variability in realized utility due to diverse experiences and opinions. The \"Average realized utility\" plot shows that graduates with more friends have more varied expected and realized utilities compared to those with fewer friends.\n",
    "\n",
    "Overall, graduates' choices and expected utilities are heavily influenced by their friends' experiences, but there can be notable differences between expected and realized utilities, reflecting the complexity of career decision-making."
   ]
  },
  {
   "cell_type": "markdown",
   "metadata": {},
   "source": [
    "After a year of working in their career, the graduates learn $u^k_{ij}$ for their chosen job $j_i^{k*}$ perfectly. <br>\n",
    "The can switch to one of the two remaining careers, for which they have the same prior as before, but it will now include a switching cost of $c$ which is known.\n",
    "Their new priors can be written as: \n",
    "$$\n",
    "\\tilde{u}^{k,2}_{ij}\\left( F_{i}\\right) = \\begin{cases}\n",
    "            \\tilde{u}^k_{ij}\\left( F_{i}\\right)-c & \\text{if } j \\neq j_i^{k*} \\\\\n",
    "            u_{ij=j_i^{k*}} & \\text{if } j = j_i^{k*}\n",
    "        \\end{cases}\n",
    "$$"
   ]
  },
  {
   "cell_type": "markdown",
   "metadata": {},
   "source": [
    "We will set $c=1$."
   ]
  },
  {
   "cell_type": "markdown",
   "metadata": {},
   "source": [
    "Their realized utility will be: <br>\n",
    "$$\n",
    "u^{k,2}_{ij}= \\begin{cases}\n",
    "            u_{ij}^k -c & \\text{if } j \\neq j_i^{k*} \\\\\n",
    "            u_{ij=j_i^{k*}} & \\text{if } j = j_i^{k*}\n",
    "        \\end{cases}\n",
    "$$"
   ]
  },
  {
   "cell_type": "markdown",
   "metadata": {},
   "source": [
    "**Question 3:** Following the same approach as in question 2, find the new optimal career choice for each $i$, $k$. Then for each $i$, calculate the average subjective expected utility from their new optimal career choice, and the ex post realized utility of that career. Also, for each $i$, calculate the share of graduates that chooses to switch careers, conditional on which career they chose in the first year. <br>"
   ]
  },
  {
   "cell_type": "code",
   "execution_count": 11,
   "metadata": {},
   "outputs": [
    {
     "name": "stdout",
     "output_type": "stream",
     "text": [
      "New optimal careers:\n",
      "Graduate 1: ['Career 2', 'Career 2']\n",
      "Graduate 2: ['Career 1', 'Career 3']\n",
      "Graduate 3: ['Career 3', 'Career 1']\n",
      "Graduate 4: ['Career 1', 'Career 2']\n",
      "Graduate 5: ['Career 2', 'Career 2']\n",
      "Graduate 6: ['Career 2', 'Career 3']\n",
      "Graduate 7: ['Career 2', 'Career 2']\n",
      "Graduate 8: ['Career 3', 'Career 3']\n",
      "Graduate 9: ['Career 3', 'Career 1']\n",
      "Graduate 10: ['Career 3', 'Career 3']\n",
      "\n",
      "Average subjective expected utility: 0.7559778441291878\n",
      "\n",
      "Ex post realized utility:\n",
      "Graduate 1: [0.72806676]\n",
      "Graduate 2: [0.41035668]\n",
      "Graduate 3: [0.91824988]\n",
      "Graduate 4: [0.57897312]\n",
      "Graduate 5: [0.98878125]\n",
      "Graduate 6: [0.67441472]\n",
      "Graduate 7: [0.91327199]\n",
      "Graduate 8: [0.9462947]\n",
      "Graduate 9: [0.61875668]\n",
      "Graduate 10: [0.78261267]\n",
      "\n",
      "Share of graduates that switch careers: 0.5\n"
     ]
    }
   ],
   "source": [
    "#We define the utility matrix (example data)\n",
    "#u_ij_k[student, career, year]\n",
    "u_ijk = np.random.rand(10, 3, 2)  # Example with 10 students, 3 careers, 2 years\n",
    "c = 1  # Switching cost\n",
    "\n",
    "#Step 1: Identify the new optimal career choice for each i, k\n",
    "new_careers = np.zeros((u_ijk.shape[0], u_ijk.shape[2]), dtype=int)\n",
    "for i in range(u_ijk.shape[0]):\n",
    "    for k in range(u_ijk.shape[2]):\n",
    "        utilities = u_ijk[i, :, k]\n",
    "        utilities_with_cost = np.where(np.arange(u_ijk.shape[1]) == np.argmax(utilities), utilities, utilities - c)\n",
    "        new_careers[i, k] = np.argmax(utilities_with_cost)\n",
    "\n",
    "#Step 2: Calculate the average subjective expected utility from their new optimal career choice\n",
    "avg_subjective_expected_utility = np.mean(np.take_along_axis(u_ijk[:, :, 1], new_careers[:, 1].reshape(-1, 1), axis=1))\n",
    "\n",
    "#Step 3: Calculate the ex post realized utility\n",
    "ex_post_realized_utility = np.take_along_axis(u_ijk[:, :, 1], new_careers[:, 1].reshape(-1, 1), axis=1)\n",
    "\n",
    "#Step 4: Calculate the share of graduates that choose to switch careers\n",
    "initial_career_choices = np.argmax(u_ijk[:, :, 0], axis=1)\n",
    "switch_careers = initial_career_choices != new_careers[:, 1]\n",
    "share_switch_careers = np.mean(switch_careers)\n",
    "\n",
    "#Step 5: Creating the tables\n",
    "#Naming the columns for better understanding\n",
    "graduates = [f'Graduate {i+1}' for i in range(u_ijk.shape[0])]\n",
    "careers = [f'Career {j+1}' for j in range(u_ijk.shape[1])]\n",
    "years = [f'Year {k+1}' for k in range(u_ijk.shape[2])]\n",
    "\n",
    "#Display the labeled results\n",
    "print(\"New optimal careers:\")\n",
    "for i, graduate in enumerate(graduates):\n",
    "    career_choices = [careers[new_careers[i, k]] for k in range(u_ijk.shape[2])]\n",
    "    print(f'{graduate}: {career_choices}')\n",
    "\n",
    "print(\"\\nAverage subjective expected utility:\", avg_subjective_expected_utility)\n",
    "\n",
    "print(\"\\nEx post realized utility:\")\n",
    "for i, graduate in enumerate(graduates):\n",
    "    print(f'{graduate}: {ex_post_realized_utility[i]}')\n",
    "\n",
    "print(\"\\nShare of graduates that switch careers:\", share_switch_careers)\n"
   ]
  },
  {
   "cell_type": "markdown",
   "metadata": {},
   "source": [
    "We follow the same approach as in question 2 but now we add a second decision-making step after one year. We introduce a switching cost, which affects the calculation of expected utilities for the second career choice. Afterwards, we simulate a new career choice process, considering the switching cost and new noise terms. Instead of focusing on all the career tracks, we focus on the new optimal career choices after one year and displays the results for the new choices only. We includes the additional metric of the share of graduates who switch careers.\n",
    "\n",
    "We wil follow this structure:\n",
    "1. Simulation of the error terms\n",
    "2. Calculating the expected utility\n",
    "3. Caculating the averages\n",
    "4. Displaying the new simulation results\n",
    "5. Displaying the switch share results"
   ]
  },
  {
   "cell_type": "code",
   "execution_count": 11,
   "metadata": {},
   "outputs": [],
   "source": [
    "#We initialize storage for new results.\n",
    "new_career_choices = np.zeros((par.N, par.J))\n",
    "new_expected_utilities = np.zeros((par.N, par.J))\n",
    "new_realized_utilities = np.zeros((par.N, par.J))\n",
    "switch_share = np.zeros(par.N)\n",
    "\n",
    "#Step 1: Simulation of the error terms.\n",
    "np.random.seed(2000)"
   ]
  },
  {
   "cell_type": "code",
   "execution_count": 12,
   "metadata": {},
   "outputs": [],
   "source": [
    "#Step 2: Calculating the expected utility.\n",
    "#We follow the exact same procedure as in question 2.\n",
    "for i in range(par.N):\n",
    "    for k in range(par.K):\n",
    "        friends = np.random.normal(0, par.sigma, (par.F[i], par.J))\n",
    "        utility_first = par.v + friends.mean(axis=0)\n",
    "        utility_variation = np.random.normal(0, par.sigma, par.J)\n",
    "        utility_total = utility_first + utility_variation\n",
    "        initial_choice = np.argmax(utility_total)\n",
    "        \n",
    "        #We want to adjust the expected utilities for each career track to account for a switching cost\n",
    "        utility_first_new = np.where(\n",
    "            np.arange(par.J) != initial_choice,\n",
    "            utility_first - par.c,\n",
    "            utility_first\n",
    "        )\n",
    "        \n",
    "        # Draw new own noise for second year choice\n",
    "        epsilon_own_new = np.random.normal(0, par.sigma, par.J)\n",
    "        u_total_new = utility_first_new + epsilon_own_new\n",
    "        \n",
    "        # Choose new optimal career\n",
    "        new_choice = np.argmax(u_total_new)\n",
    "        \n",
    "        # Storing the results\n",
    "        new_career_choices[i, new_choice] += 1\n",
    "        new_expected_utilities[i, new_choice] += u_total_new[new_choice]\n",
    "        new_realized_utilities[i, new_choice] += par.v[new_choice] + epsilon_own_new[new_choice]\n",
    "        \n",
    "        # Track switching behavior\n",
    "        if new_choice != initial_choice:\n",
    "            switch_share[i] += 1"
   ]
  },
  {
   "cell_type": "code",
   "execution_count": 13,
   "metadata": {},
   "outputs": [],
   "source": [
    "# Step 3: Calculating the averages\n",
    "new_career_choices_avg = new_career_choices / par.K\n",
    "new_expected_utilities_avg = new_expected_utilities / par.K\n",
    "new_realized_utilities_avg = new_realized_utilities / par.K\n",
    "switch_share_avg = switch_share / par.K"
   ]
  },
  {
   "cell_type": "code",
   "execution_count": 14,
   "metadata": {},
   "outputs": [
    {
     "data": {
      "text/html": [
       "<div>\n",
       "<style scoped>\n",
       "    .dataframe tbody tr th:only-of-type {\n",
       "        vertical-align: middle;\n",
       "    }\n",
       "\n",
       "    .dataframe tbody tr th {\n",
       "        vertical-align: top;\n",
       "    }\n",
       "\n",
       "    .dataframe thead th {\n",
       "        text-align: right;\n",
       "    }\n",
       "</style>\n",
       "<table border=\"1\" class=\"dataframe\">\n",
       "  <thead>\n",
       "    <tr style=\"text-align: right;\">\n",
       "      <th></th>\n",
       "      <th>Graduate</th>\n",
       "      <th>Career Track</th>\n",
       "      <th>New Share of Choices</th>\n",
       "      <th>New Expected Utility</th>\n",
       "      <th>New Realized Utility</th>\n",
       "    </tr>\n",
       "  </thead>\n",
       "  <tbody>\n",
       "    <tr>\n",
       "      <th>0</th>\n",
       "      <td>1</td>\n",
       "      <td>3</td>\n",
       "      <td>0.5065</td>\n",
       "      <td>2.254855</td>\n",
       "      <td>1.913234</td>\n",
       "    </tr>\n",
       "    <tr>\n",
       "      <th>1</th>\n",
       "      <td>2</td>\n",
       "      <td>3</td>\n",
       "      <td>0.5418</td>\n",
       "      <td>2.210569</td>\n",
       "      <td>2.091425</td>\n",
       "    </tr>\n",
       "    <tr>\n",
       "      <th>2</th>\n",
       "      <td>3</td>\n",
       "      <td>3</td>\n",
       "      <td>0.5381</td>\n",
       "      <td>2.096071</td>\n",
       "      <td>2.059159</td>\n",
       "    </tr>\n",
       "    <tr>\n",
       "      <th>3</th>\n",
       "      <td>4</td>\n",
       "      <td>3</td>\n",
       "      <td>0.5495</td>\n",
       "      <td>2.092898</td>\n",
       "      <td>2.128526</td>\n",
       "    </tr>\n",
       "    <tr>\n",
       "      <th>4</th>\n",
       "      <td>5</td>\n",
       "      <td>3</td>\n",
       "      <td>0.5664</td>\n",
       "      <td>2.144684</td>\n",
       "      <td>2.196237</td>\n",
       "    </tr>\n",
       "    <tr>\n",
       "      <th>5</th>\n",
       "      <td>6</td>\n",
       "      <td>3</td>\n",
       "      <td>0.5612</td>\n",
       "      <td>2.106747</td>\n",
       "      <td>2.183378</td>\n",
       "    </tr>\n",
       "    <tr>\n",
       "      <th>6</th>\n",
       "      <td>7</td>\n",
       "      <td>3</td>\n",
       "      <td>0.5599</td>\n",
       "      <td>2.078167</td>\n",
       "      <td>2.169116</td>\n",
       "    </tr>\n",
       "    <tr>\n",
       "      <th>7</th>\n",
       "      <td>8</td>\n",
       "      <td>3</td>\n",
       "      <td>0.5640</td>\n",
       "      <td>2.126525</td>\n",
       "      <td>2.228591</td>\n",
       "    </tr>\n",
       "    <tr>\n",
       "      <th>8</th>\n",
       "      <td>9</td>\n",
       "      <td>3</td>\n",
       "      <td>0.5696</td>\n",
       "      <td>2.126237</td>\n",
       "      <td>2.239512</td>\n",
       "    </tr>\n",
       "    <tr>\n",
       "      <th>9</th>\n",
       "      <td>10</td>\n",
       "      <td>3</td>\n",
       "      <td>0.5755</td>\n",
       "      <td>2.136304</td>\n",
       "      <td>2.251624</td>\n",
       "    </tr>\n",
       "  </tbody>\n",
       "</table>\n",
       "</div>"
      ],
      "text/plain": [
       "   Graduate  Career Track  New Share of Choices  New Expected Utility  \\\n",
       "0         1             3                0.5065              2.254855   \n",
       "1         2             3                0.5418              2.210569   \n",
       "2         3             3                0.5381              2.096071   \n",
       "3         4             3                0.5495              2.092898   \n",
       "4         5             3                0.5664              2.144684   \n",
       "5         6             3                0.5612              2.106747   \n",
       "6         7             3                0.5599              2.078167   \n",
       "7         8             3                0.5640              2.126525   \n",
       "8         9             3                0.5696              2.126237   \n",
       "9        10             3                0.5755              2.136304   \n",
       "\n",
       "   New Realized Utility  \n",
       "0              1.913234  \n",
       "1              2.091425  \n",
       "2              2.059159  \n",
       "3              2.128526  \n",
       "4              2.196237  \n",
       "5              2.183378  \n",
       "6              2.169116  \n",
       "7              2.228591  \n",
       "8              2.239512  \n",
       "9              2.251624  "
      ]
     },
     "metadata": {},
     "output_type": "display_data"
    }
   ],
   "source": [
    "# Step 4: Displaying the new simulation results\n",
    "new_results = []\n",
    "for i in range(par.N):\n",
    "    chosen_career = np.argmax(new_career_choices_avg[i])\n",
    "    new_results.append({\n",
    "        'Graduate': i + 1,\n",
    "        'Career Track': chosen_career + 1,\n",
    "        'New Share of Choices': new_career_choices_avg[i, chosen_career],\n",
    "        'New Expected Utility': new_expected_utilities_avg[i, chosen_career],\n",
    "        'New Realized Utility': new_realized_utilities_avg[i, chosen_career]\n",
    "    })\n",
    "\n",
    "new_results_df = pd.DataFrame(new_results)\n",
    "display(new_results_df)"
   ]
  },
  {
   "cell_type": "code",
   "execution_count": 15,
   "metadata": {},
   "outputs": [
    {
     "data": {
      "text/html": [
       "<div>\n",
       "<style scoped>\n",
       "    .dataframe tbody tr th:only-of-type {\n",
       "        vertical-align: middle;\n",
       "    }\n",
       "\n",
       "    .dataframe tbody tr th {\n",
       "        vertical-align: top;\n",
       "    }\n",
       "\n",
       "    .dataframe thead th {\n",
       "        text-align: right;\n",
       "    }\n",
       "</style>\n",
       "<table border=\"1\" class=\"dataframe\">\n",
       "  <thead>\n",
       "    <tr style=\"text-align: right;\">\n",
       "      <th></th>\n",
       "      <th>Graduate</th>\n",
       "      <th>Switch Share</th>\n",
       "    </tr>\n",
       "  </thead>\n",
       "  <tbody>\n",
       "    <tr>\n",
       "      <th>0</th>\n",
       "      <td>1</td>\n",
       "      <td>0.3291</td>\n",
       "    </tr>\n",
       "    <tr>\n",
       "      <th>1</th>\n",
       "      <td>2</td>\n",
       "      <td>0.3715</td>\n",
       "    </tr>\n",
       "    <tr>\n",
       "      <th>2</th>\n",
       "      <td>3</td>\n",
       "      <td>0.4003</td>\n",
       "    </tr>\n",
       "    <tr>\n",
       "      <th>3</th>\n",
       "      <td>4</td>\n",
       "      <td>0.4072</td>\n",
       "    </tr>\n",
       "    <tr>\n",
       "      <th>4</th>\n",
       "      <td>5</td>\n",
       "      <td>0.4065</td>\n",
       "    </tr>\n",
       "    <tr>\n",
       "      <th>5</th>\n",
       "      <td>6</td>\n",
       "      <td>0.4206</td>\n",
       "    </tr>\n",
       "    <tr>\n",
       "      <th>6</th>\n",
       "      <td>7</td>\n",
       "      <td>0.4279</td>\n",
       "    </tr>\n",
       "    <tr>\n",
       "      <th>7</th>\n",
       "      <td>8</td>\n",
       "      <td>0.4295</td>\n",
       "    </tr>\n",
       "    <tr>\n",
       "      <th>8</th>\n",
       "      <td>9</td>\n",
       "      <td>0.4242</td>\n",
       "    </tr>\n",
       "    <tr>\n",
       "      <th>9</th>\n",
       "      <td>10</td>\n",
       "      <td>0.4225</td>\n",
       "    </tr>\n",
       "  </tbody>\n",
       "</table>\n",
       "</div>"
      ],
      "text/plain": [
       "   Graduate  Switch Share\n",
       "0         1        0.3291\n",
       "1         2        0.3715\n",
       "2         3        0.4003\n",
       "3         4        0.4072\n",
       "4         5        0.4065\n",
       "5         6        0.4206\n",
       "6         7        0.4279\n",
       "7         8        0.4295\n",
       "8         9        0.4242\n",
       "9        10        0.4225"
      ]
     },
     "metadata": {},
     "output_type": "display_data"
    }
   ],
   "source": [
    "#Step 5: Displaying the switch share results\n",
    "switch_results = [{'Graduate': i + 1, 'Switch Share': switch_share_avg[i]} for i in range(par.N)]\n",
    "switch_results_df = pd.DataFrame(switch_results)\n",
    "display(switch_results_df)"
   ]
  },
  {
   "cell_type": "code",
   "execution_count": 16,
   "metadata": {},
   "outputs": [
    {
     "data": {
      "text/html": [
       "<div>\n",
       "<style scoped>\n",
       "    .dataframe tbody tr th:only-of-type {\n",
       "        vertical-align: middle;\n",
       "    }\n",
       "\n",
       "    .dataframe tbody tr th {\n",
       "        vertical-align: top;\n",
       "    }\n",
       "\n",
       "    .dataframe thead th {\n",
       "        text-align: right;\n",
       "    }\n",
       "</style>\n",
       "<table border=\"1\" class=\"dataframe\">\n",
       "  <thead>\n",
       "    <tr style=\"text-align: right;\">\n",
       "      <th></th>\n",
       "      <th>Graduate</th>\n",
       "      <th>Career Track</th>\n",
       "      <th>New Share of Choices</th>\n",
       "      <th>New Expected Utility</th>\n",
       "      <th>New Realized Utility</th>\n",
       "    </tr>\n",
       "  </thead>\n",
       "  <tbody>\n",
       "    <tr>\n",
       "      <th>0</th>\n",
       "      <td>1</td>\n",
       "      <td>3</td>\n",
       "      <td>0.5065</td>\n",
       "      <td>2.254855</td>\n",
       "      <td>1.913234</td>\n",
       "    </tr>\n",
       "    <tr>\n",
       "      <th>1</th>\n",
       "      <td>2</td>\n",
       "      <td>3</td>\n",
       "      <td>0.5418</td>\n",
       "      <td>2.210569</td>\n",
       "      <td>2.091425</td>\n",
       "    </tr>\n",
       "    <tr>\n",
       "      <th>2</th>\n",
       "      <td>3</td>\n",
       "      <td>3</td>\n",
       "      <td>0.5381</td>\n",
       "      <td>2.096071</td>\n",
       "      <td>2.059159</td>\n",
       "    </tr>\n",
       "    <tr>\n",
       "      <th>3</th>\n",
       "      <td>4</td>\n",
       "      <td>3</td>\n",
       "      <td>0.5495</td>\n",
       "      <td>2.092898</td>\n",
       "      <td>2.128526</td>\n",
       "    </tr>\n",
       "    <tr>\n",
       "      <th>4</th>\n",
       "      <td>5</td>\n",
       "      <td>3</td>\n",
       "      <td>0.5664</td>\n",
       "      <td>2.144684</td>\n",
       "      <td>2.196237</td>\n",
       "    </tr>\n",
       "    <tr>\n",
       "      <th>5</th>\n",
       "      <td>6</td>\n",
       "      <td>3</td>\n",
       "      <td>0.5612</td>\n",
       "      <td>2.106747</td>\n",
       "      <td>2.183378</td>\n",
       "    </tr>\n",
       "    <tr>\n",
       "      <th>6</th>\n",
       "      <td>7</td>\n",
       "      <td>3</td>\n",
       "      <td>0.5599</td>\n",
       "      <td>2.078167</td>\n",
       "      <td>2.169116</td>\n",
       "    </tr>\n",
       "    <tr>\n",
       "      <th>7</th>\n",
       "      <td>8</td>\n",
       "      <td>3</td>\n",
       "      <td>0.5640</td>\n",
       "      <td>2.126525</td>\n",
       "      <td>2.228591</td>\n",
       "    </tr>\n",
       "    <tr>\n",
       "      <th>8</th>\n",
       "      <td>9</td>\n",
       "      <td>3</td>\n",
       "      <td>0.5696</td>\n",
       "      <td>2.126237</td>\n",
       "      <td>2.239512</td>\n",
       "    </tr>\n",
       "    <tr>\n",
       "      <th>9</th>\n",
       "      <td>10</td>\n",
       "      <td>3</td>\n",
       "      <td>0.5755</td>\n",
       "      <td>2.136304</td>\n",
       "      <td>2.251624</td>\n",
       "    </tr>\n",
       "  </tbody>\n",
       "</table>\n",
       "</div>"
      ],
      "text/plain": [
       "   Graduate  Career Track  New Share of Choices  New Expected Utility  \\\n",
       "0         1             3                0.5065              2.254855   \n",
       "1         2             3                0.5418              2.210569   \n",
       "2         3             3                0.5381              2.096071   \n",
       "3         4             3                0.5495              2.092898   \n",
       "4         5             3                0.5664              2.144684   \n",
       "5         6             3                0.5612              2.106747   \n",
       "6         7             3                0.5599              2.078167   \n",
       "7         8             3                0.5640              2.126525   \n",
       "8         9             3                0.5696              2.126237   \n",
       "9        10             3                0.5755              2.136304   \n",
       "\n",
       "   New Realized Utility  \n",
       "0              1.913234  \n",
       "1              2.091425  \n",
       "2              2.059159  \n",
       "3              2.128526  \n",
       "4              2.196237  \n",
       "5              2.183378  \n",
       "6              2.169116  \n",
       "7              2.228591  \n",
       "8              2.239512  \n",
       "9              2.251624  "
      ]
     },
     "metadata": {},
     "output_type": "display_data"
    },
    {
     "data": {
      "text/html": [
       "<div>\n",
       "<style scoped>\n",
       "    .dataframe tbody tr th:only-of-type {\n",
       "        vertical-align: middle;\n",
       "    }\n",
       "\n",
       "    .dataframe tbody tr th {\n",
       "        vertical-align: top;\n",
       "    }\n",
       "\n",
       "    .dataframe thead th {\n",
       "        text-align: right;\n",
       "    }\n",
       "</style>\n",
       "<table border=\"1\" class=\"dataframe\">\n",
       "  <thead>\n",
       "    <tr style=\"text-align: right;\">\n",
       "      <th></th>\n",
       "      <th>Graduate</th>\n",
       "      <th>Switch Share</th>\n",
       "    </tr>\n",
       "  </thead>\n",
       "  <tbody>\n",
       "    <tr>\n",
       "      <th>0</th>\n",
       "      <td>1</td>\n",
       "      <td>0.3291</td>\n",
       "    </tr>\n",
       "    <tr>\n",
       "      <th>1</th>\n",
       "      <td>2</td>\n",
       "      <td>0.3715</td>\n",
       "    </tr>\n",
       "    <tr>\n",
       "      <th>2</th>\n",
       "      <td>3</td>\n",
       "      <td>0.4003</td>\n",
       "    </tr>\n",
       "    <tr>\n",
       "      <th>3</th>\n",
       "      <td>4</td>\n",
       "      <td>0.4072</td>\n",
       "    </tr>\n",
       "    <tr>\n",
       "      <th>4</th>\n",
       "      <td>5</td>\n",
       "      <td>0.4065</td>\n",
       "    </tr>\n",
       "    <tr>\n",
       "      <th>5</th>\n",
       "      <td>6</td>\n",
       "      <td>0.4206</td>\n",
       "    </tr>\n",
       "    <tr>\n",
       "      <th>6</th>\n",
       "      <td>7</td>\n",
       "      <td>0.4279</td>\n",
       "    </tr>\n",
       "    <tr>\n",
       "      <th>7</th>\n",
       "      <td>8</td>\n",
       "      <td>0.4295</td>\n",
       "    </tr>\n",
       "    <tr>\n",
       "      <th>8</th>\n",
       "      <td>9</td>\n",
       "      <td>0.4242</td>\n",
       "    </tr>\n",
       "    <tr>\n",
       "      <th>9</th>\n",
       "      <td>10</td>\n",
       "      <td>0.4225</td>\n",
       "    </tr>\n",
       "  </tbody>\n",
       "</table>\n",
       "</div>"
      ],
      "text/plain": [
       "   Graduate  Switch Share\n",
       "0         1        0.3291\n",
       "1         2        0.3715\n",
       "2         3        0.4003\n",
       "3         4        0.4072\n",
       "4         5        0.4065\n",
       "5         6        0.4206\n",
       "6         7        0.4279\n",
       "7         8        0.4295\n",
       "8         9        0.4242\n",
       "9        10        0.4225"
      ]
     },
     "metadata": {},
     "output_type": "display_data"
    }
   ],
   "source": [
    "# Initialize storage for new results\n",
    "new_career_choices = np.zeros((par.N, par.J))\n",
    "new_expected_utilities = np.zeros((par.N, par.J))\n",
    "new_realized_utilities = np.zeros((par.N, par.J))\n",
    "switch_share = np.zeros(par.N)\n",
    "\n",
    "# Step 1: Simulation of the error terms\n",
    "np.random.seed(2000)\n",
    "\n",
    "# Step 2: Calculating the expected utility\n",
    "for i in range(par.N):\n",
    "    for k in range(par.K):\n",
    "        # Draw noise for friends' utilities (same as before)\n",
    "        epsilon_friends = np.random.normal(0, par.sigma, (par.F[i], par.J))\n",
    "        u_prior = par.v + epsilon_friends.mean(axis=0)\n",
    "        \n",
    "        # Draw own noise for first year choice\n",
    "        epsilon_own = np.random.normal(0, par.sigma, par.J)\n",
    "        u_total = u_prior + epsilon_own\n",
    "        initial_choice = np.argmax(u_total)\n",
    "        \n",
    "        # Calculate utilities with switching cost\n",
    "        u_prior_new = np.where(\n",
    "            np.arange(par.J) != initial_choice,\n",
    "            u_prior - par.c,\n",
    "            u_prior\n",
    "        )\n",
    "        \n",
    "        # Draw new own noise for second year choice\n",
    "        epsilon_own_new = np.random.normal(0, par.sigma, par.J)\n",
    "        u_total_new = u_prior_new + epsilon_own_new\n",
    "        \n",
    "        # Choose new optimal career\n",
    "        new_choice = np.argmax(u_total_new)\n",
    "        \n",
    "        # Storing the results\n",
    "        new_career_choices[i, new_choice] += 1\n",
    "        new_expected_utilities[i, new_choice] += u_total_new[new_choice]\n",
    "        new_realized_utilities[i, new_choice] += par.v[new_choice] + epsilon_own_new[new_choice]\n",
    "        \n",
    "        # Track switching behavior\n",
    "        if new_choice != initial_choice:\n",
    "            switch_share[i] += 1\n",
    "\n",
    "# Step 3: Calculating the averages\n",
    "new_career_choices_avg = new_career_choices / par.K\n",
    "new_expected_utilities_avg = new_expected_utilities / par.K\n",
    "new_realized_utilities_avg = new_realized_utilities / par.K\n",
    "switch_share_avg = switch_share / par.K\n",
    "\n",
    "# Step 4: Displaying the results\n",
    "# New simulation results\n",
    "new_results = []\n",
    "for i in range(par.N):\n",
    "    chosen_career = np.argmax(new_career_choices_avg[i])\n",
    "    new_results.append({\n",
    "        'Graduate': i + 1,\n",
    "        'Career Track': chosen_career + 1,\n",
    "        'New Share of Choices': new_career_choices_avg[i, chosen_career],\n",
    "        'New Expected Utility': new_expected_utilities_avg[i, chosen_career],\n",
    "        'New Realized Utility': new_realized_utilities_avg[i, chosen_career]\n",
    "    })\n",
    "\n",
    "new_results_df = pd.DataFrame(new_results)\n",
    "display(new_results_df)\n",
    "\n",
    "# Display switch share results\n",
    "switch_results = [{'Graduate': i + 1, 'Switch Share': switch_share_avg[i]} for i in range(par.N)]\n",
    "switch_results_df = pd.DataFrame(switch_results)\n",
    "display(switch_results_df)"
   ]
  },
  {
   "cell_type": "markdown",
   "metadata": {},
   "source": [
    "## 3. <a id='toc3_'></a>[Problem 3: Barycentric interpolation](#toc0_)"
   ]
  },
  {
   "cell_type": "markdown",
   "metadata": {},
   "source": [
    "**Problem:** We have a set of random points in the unit square,\n",
    "\n",
    "$$\n",
    "\\mathcal{X} = \\{(x_1,x_2)\\,|\\,x_1\\sim\\mathcal{U}(0,1),x_2\\sim\\mathcal{U}(0,1)\\}.\n",
    "$$\n",
    "\n",
    "For these points, we know the value of some function $f(x_1,x_2)$,\n",
    "\n",
    "$$\n",
    "\\mathcal{F} = \\{f(x_1,x_2) \\,|\\, (x_1,x_2) \\in \\mathcal{X}\\}.\n",
    "$$\n",
    "\n",
    "Now we want to approximate the value $f(y_1,y_2)$ for some  $y=(y_1,y_2)$, where $y_1\\sim\\mathcal{U}(0,1)$ and $y_2\\sim\\mathcal{U}(0,1)$.\n",
    "\n",
    "**Building block I**\n",
    "\n",
    "For an arbitrary triangle $ABC$ and a point $y$, define the so-called barycentric coordinates as:\n",
    "\n",
    "$$\n",
    "\\begin{align*}\n",
    "  r^{ABC}_1 &= \\frac{(B_2-C_2)(y_1-C_1) + (C_1-B_1)(y_2-C_2)}{(B_2-C_2)(A_1-C_1) + (C_1-B_1)(A_2-C_2)} \\\\\n",
    "  r^{ABC}_2 &= \\frac{(C_2-A_2)(y_1-C_1) + (A_1-C_1)(y_2-C_2)}{(B_2-C_2)(A_1-C_1) + (C_1-B_1)(A_2-C_2)} \\\\\n",
    "  r^{ABC}_3 &= 1 - r_1 - r_2.\n",
    "\\end{align*}\n",
    "$$\n",
    "\n",
    "If $r^{ABC}_1 \\in [0,1]$, $r^{ABC}_2 \\in [0,1]$, and $r^{ABC}_3 \\in [0,1]$, then the point is inside the triangle.\n",
    "\n",
    "We always have $y = r^{ABC}_1 A + r^{ABC}_2 B + r^{ABC}_3 C$.\n",
    "\n",
    "**Building block II**\n",
    "\n",
    "Define the following points:\n",
    "\n",
    "$$\n",
    "\\begin{align*}\n",
    "A&=\\arg\\min_{(x_{1},x_{2})\\in\\mathcal{X}}\\sqrt{\\left(x_{1}-y_{1}\\right)^{2}+\\left(x_{2}-y_{2}\\right)^{2}}\\text{ s.t. }x_{1}>y_{1}\\text{ and }x_{2}>y_{2}\\\\\n",
    "B&=\\arg\\min_{(x_{1},x_{2})\\in\\mathcal{X}}\\sqrt{\\left(x_{1}-y_{1}\\right)^{2}+\\left(x_{2}-y_{2}\\right)^{2}}\\text{ s.t. }x_{1}>y_{1}\\text{ and }x_{2}<y_{2}\\\\\n",
    "C&=\\arg\\min_{(x_{1},x_{2})\\in\\mathcal{X}}\\sqrt{\\left(x_{1}-y_{1}\\right)^{2}+\\left(x_{2}-y_{2}\\right)^{2}}\\text{ s.t. }x_{1}<y_{1}\\text{ and }x_{2}<y_{2}\\\\\n",
    "D&=\\arg\\min_{(x_{1},x_{2})\\in\\mathcal{X}}\\sqrt{\\left(x_{1}-y_{1}\\right)^{2}+\\left(x_{2}-y_{2}\\right)^{2}}\\text{ s.t. }x_{1}<y_{1}\\text{ and }x_{2}>y_{2}.\n",
    "\\end{align*}\n",
    "$$\n",
    "\n",
    "**Algorithm:**\n",
    "\n",
    "1. Compute $A$, $B$, $C$, and $D$. If not possible return `NaN`.\n",
    "1. If $y$ is inside the triangle $ABC$ return $r^{ABC}_1 f(A) + r^{ABC}_2 f(B) + r^{ABC}_3 f(C)$.\n",
    "1. If $y$ is inside the triangle $CDA$ return $r^{CDA}_1 f(C) + r^{CDA}_2 f(D) + r^{CDA}_3 f(A)$.\n",
    "1. Return `NaN`.\n",
    "\n"
   ]
  },
  {
   "cell_type": "markdown",
   "metadata": {},
   "source": [
    "**Sample:**"
   ]
  },
  {
   "cell_type": "code",
   "execution_count": null,
   "metadata": {},
   "outputs": [],
   "source": [
    "rng = np.random.default_rng(2024)\n",
    "\n",
    "X = rng.uniform(size=(50,2))\n",
    "y = rng.uniform(size=(2,))\n"
   ]
  },
  {
   "cell_type": "markdown",
   "metadata": {},
   "source": [
    "**Questions 1:** Find $A$, $B$, $C$ and $D$. Illustrate these together with $X$, $y$ and the triangles $ABC$ and $CDA$."
   ]
  },
  {
   "cell_type": "code",
   "execution_count": null,
   "metadata": {},
   "outputs": [],
   "source": [
    "# write your answer here"
   ]
  },
  {
   "cell_type": "markdown",
   "metadata": {},
   "source": [
    "**Question 2:** Compute the barycentric coordinates of the point $y$ with respect to the triangles $ABC$ and $CDA$. Which triangle is $y$ located inside?"
   ]
  },
  {
   "cell_type": "code",
   "execution_count": null,
   "metadata": {},
   "outputs": [],
   "source": [
    "# write your answer here"
   ]
  },
  {
   "cell_type": "markdown",
   "metadata": {},
   "source": [
    "Now consider the function:\n",
    "$$\n",
    "f(x_1,x_2) = x_1 \\cdot x_2\n",
    "$$"
   ]
  },
  {
   "cell_type": "code",
   "execution_count": null,
   "metadata": {},
   "outputs": [],
   "source": [
    "f = lambda x: x[0]*x[1]\n",
    "F = np.array([f(x) for x in X])"
   ]
  },
  {
   "cell_type": "markdown",
   "metadata": {},
   "source": [
    "**Question 3:** Compute the approximation of $f(y)$ using the full algorithm. Compare with the true value."
   ]
  },
  {
   "cell_type": "code",
   "execution_count": null,
   "metadata": {},
   "outputs": [],
   "source": [
    "# write your answer here"
   ]
  },
  {
   "cell_type": "markdown",
   "metadata": {},
   "source": [
    "**Question 4:** Repeat question 3 for all points in the set $Y$."
   ]
  },
  {
   "cell_type": "code",
   "execution_count": null,
   "metadata": {},
   "outputs": [],
   "source": [
    "Y = [(0.2,0.2),(0.8,0.2),(0.8,0.8),(0.8,0.2),(0.5,0.5)]"
   ]
  },
  {
   "cell_type": "code",
   "execution_count": null,
   "metadata": {},
   "outputs": [],
   "source": [
    "# write your answer here"
   ]
  }
 ],
 "metadata": {
  "kernelspec": {
   "display_name": "base",
   "language": "python",
   "name": "python3"
  },
  "language_info": {
   "codemirror_mode": {
    "name": "ipython",
    "version": 3
   },
   "file_extension": ".py",
   "mimetype": "text/x-python",
   "name": "python",
   "nbconvert_exporter": "python",
   "pygments_lexer": "ipython3",
   "version": "3.11.8"
  }
 },
 "nbformat": 4,
 "nbformat_minor": 2
}
